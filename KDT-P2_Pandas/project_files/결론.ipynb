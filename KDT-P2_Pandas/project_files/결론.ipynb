{
 "cells": [
  {
   "cell_type": "code",
   "execution_count": 1,
   "id": "73c92190",
   "metadata": {},
   "outputs": [],
   "source": [
    "import pandas as pd\n",
    "import matplotlib.pyplot as plt\n",
    "from matplotlib import font_manager as fm ,rc"
   ]
  },
  {
   "cell_type": "code",
   "execution_count": 2,
   "id": "5ea69a90",
   "metadata": {},
   "outputs": [],
   "source": [
    "FONT_PATH='../Fonts/malgun.ttf'\n",
    "font_name=fm.FontProperties(fname=FONT_PATH).get_name()\n",
    "rc('font',family=font_name)"
   ]
  },
  {
   "cell_type": "code",
   "execution_count": 4,
   "id": "f37922a4",
   "metadata": {
    "scrolled": true
   },
   "outputs": [
    {
     "data": {
      "text/html": [
       "<div>\n",
       "<style scoped>\n",
       "    .dataframe tbody tr th:only-of-type {\n",
       "        vertical-align: middle;\n",
       "    }\n",
       "\n",
       "    .dataframe tbody tr th {\n",
       "        vertical-align: top;\n",
       "    }\n",
       "\n",
       "    .dataframe thead th {\n",
       "        text-align: right;\n",
       "    }\n",
       "</style>\n",
       "<table border=\"1\" class=\"dataframe\">\n",
       "  <thead>\n",
       "    <tr style=\"text-align: right;\">\n",
       "      <th></th>\n",
       "      <th>년</th>\n",
       "      <th>월</th>\n",
       "      <th>시간대</th>\n",
       "      <th>시도</th>\n",
       "      <th>화재유형</th>\n",
       "      <th>발화열원대분류</th>\n",
       "      <th>발화요인대분류</th>\n",
       "      <th>최초착화물대분류</th>\n",
       "      <th>장소대분류</th>\n",
       "      <th>사망</th>\n",
       "      <th>부상</th>\n",
       "      <th>인명피해(명)소계</th>\n",
       "      <th>재산피해소계</th>\n",
       "    </tr>\n",
       "  </thead>\n",
       "  <tbody>\n",
       "    <tr>\n",
       "      <th>0</th>\n",
       "      <td>2015</td>\n",
       "      <td>1</td>\n",
       "      <td>심야</td>\n",
       "      <td>경상남도</td>\n",
       "      <td>건축,구조물</td>\n",
       "      <td>작동기기</td>\n",
       "      <td>전기적 요인</td>\n",
       "      <td>전기,전자</td>\n",
       "      <td>주거</td>\n",
       "      <td>0</td>\n",
       "      <td>0</td>\n",
       "      <td>0</td>\n",
       "      <td>2920</td>\n",
       "    </tr>\n",
       "    <tr>\n",
       "      <th>1</th>\n",
       "      <td>2015</td>\n",
       "      <td>1</td>\n",
       "      <td>심야</td>\n",
       "      <td>서울특별시</td>\n",
       "      <td>임야</td>\n",
       "      <td>담뱃불, 라이터불</td>\n",
       "      <td>부주의</td>\n",
       "      <td>기타</td>\n",
       "      <td>임야</td>\n",
       "      <td>0</td>\n",
       "      <td>0</td>\n",
       "      <td>0</td>\n",
       "      <td>0</td>\n",
       "    </tr>\n",
       "    <tr>\n",
       "      <th>2</th>\n",
       "      <td>2015</td>\n",
       "      <td>1</td>\n",
       "      <td>심야</td>\n",
       "      <td>서울특별시</td>\n",
       "      <td>자동차,철도차량</td>\n",
       "      <td>담뱃불, 라이터불</td>\n",
       "      <td>부주의</td>\n",
       "      <td>침구,직물류</td>\n",
       "      <td>자동차,철도차량</td>\n",
       "      <td>0</td>\n",
       "      <td>0</td>\n",
       "      <td>0</td>\n",
       "      <td>137</td>\n",
       "    </tr>\n",
       "    <tr>\n",
       "      <th>3</th>\n",
       "      <td>2015</td>\n",
       "      <td>1</td>\n",
       "      <td>심야</td>\n",
       "      <td>서울특별시</td>\n",
       "      <td>건축,구조물</td>\n",
       "      <td>담뱃불, 라이터불</td>\n",
       "      <td>부주의</td>\n",
       "      <td>종이,목재,건초등</td>\n",
       "      <td>판매,업무시설</td>\n",
       "      <td>0</td>\n",
       "      <td>0</td>\n",
       "      <td>0</td>\n",
       "      <td>326</td>\n",
       "    </tr>\n",
       "    <tr>\n",
       "      <th>4</th>\n",
       "      <td>2015</td>\n",
       "      <td>1</td>\n",
       "      <td>심야</td>\n",
       "      <td>부산광역시</td>\n",
       "      <td>건축,구조물</td>\n",
       "      <td>작동기기</td>\n",
       "      <td>부주의</td>\n",
       "      <td>식품</td>\n",
       "      <td>주거</td>\n",
       "      <td>0</td>\n",
       "      <td>0</td>\n",
       "      <td>0</td>\n",
       "      <td>0</td>\n",
       "    </tr>\n",
       "    <tr>\n",
       "      <th>...</th>\n",
       "      <td>...</td>\n",
       "      <td>...</td>\n",
       "      <td>...</td>\n",
       "      <td>...</td>\n",
       "      <td>...</td>\n",
       "      <td>...</td>\n",
       "      <td>...</td>\n",
       "      <td>...</td>\n",
       "      <td>...</td>\n",
       "      <td>...</td>\n",
       "      <td>...</td>\n",
       "      <td>...</td>\n",
       "      <td>...</td>\n",
       "    </tr>\n",
       "    <tr>\n",
       "      <th>214462</th>\n",
       "      <td>2019</td>\n",
       "      <td>12</td>\n",
       "      <td>저녁</td>\n",
       "      <td>경기도</td>\n",
       "      <td>건축,구조물</td>\n",
       "      <td>작동기기</td>\n",
       "      <td>전기적 요인</td>\n",
       "      <td>전기,전자</td>\n",
       "      <td>산업시설</td>\n",
       "      <td>0</td>\n",
       "      <td>0</td>\n",
       "      <td>0</td>\n",
       "      <td>23707</td>\n",
       "    </tr>\n",
       "    <tr>\n",
       "      <th>214463</th>\n",
       "      <td>2019</td>\n",
       "      <td>12</td>\n",
       "      <td>저녁</td>\n",
       "      <td>경상북도</td>\n",
       "      <td>건축,구조물</td>\n",
       "      <td>미상</td>\n",
       "      <td>미상</td>\n",
       "      <td>종이,목재,건초등</td>\n",
       "      <td>산업시설</td>\n",
       "      <td>0</td>\n",
       "      <td>0</td>\n",
       "      <td>0</td>\n",
       "      <td>3542</td>\n",
       "    </tr>\n",
       "    <tr>\n",
       "      <th>214464</th>\n",
       "      <td>2019</td>\n",
       "      <td>12</td>\n",
       "      <td>저녁</td>\n",
       "      <td>부산광역시</td>\n",
       "      <td>건축,구조물</td>\n",
       "      <td>작동기기</td>\n",
       "      <td>부주의</td>\n",
       "      <td>식품</td>\n",
       "      <td>판매,업무시설</td>\n",
       "      <td>0</td>\n",
       "      <td>0</td>\n",
       "      <td>0</td>\n",
       "      <td>0</td>\n",
       "    </tr>\n",
       "    <tr>\n",
       "      <th>214465</th>\n",
       "      <td>2019</td>\n",
       "      <td>12</td>\n",
       "      <td>저녁</td>\n",
       "      <td>제주특별자치도</td>\n",
       "      <td>건축,구조물</td>\n",
       "      <td>작동기기</td>\n",
       "      <td>부주의</td>\n",
       "      <td>합성수지</td>\n",
       "      <td>판매,업무시설</td>\n",
       "      <td>0</td>\n",
       "      <td>0</td>\n",
       "      <td>0</td>\n",
       "      <td>105</td>\n",
       "    </tr>\n",
       "    <tr>\n",
       "      <th>214466</th>\n",
       "      <td>2019</td>\n",
       "      <td>12</td>\n",
       "      <td>저녁</td>\n",
       "      <td>인천광역시</td>\n",
       "      <td>건축,구조물</td>\n",
       "      <td>작동기기</td>\n",
       "      <td>전기적 요인</td>\n",
       "      <td>전기,전자</td>\n",
       "      <td>산업시설</td>\n",
       "      <td>0</td>\n",
       "      <td>0</td>\n",
       "      <td>0</td>\n",
       "      <td>3879</td>\n",
       "    </tr>\n",
       "  </tbody>\n",
       "</table>\n",
       "<p>214467 rows × 13 columns</p>\n",
       "</div>"
      ],
      "text/plain": [
       "           년   월 시간대       시도      화재유형    발화열원대분류 발화요인대분류   최초착화물대분류  \\\n",
       "0       2015   1  심야     경상남도    건축,구조물       작동기기  전기적 요인      전기,전자   \n",
       "1       2015   1  심야    서울특별시        임야  담뱃불, 라이터불     부주의         기타   \n",
       "2       2015   1  심야    서울특별시  자동차,철도차량  담뱃불, 라이터불     부주의     침구,직물류   \n",
       "3       2015   1  심야    서울특별시    건축,구조물  담뱃불, 라이터불     부주의  종이,목재,건초등   \n",
       "4       2015   1  심야    부산광역시    건축,구조물       작동기기     부주의         식품   \n",
       "...      ...  ..  ..      ...       ...        ...     ...        ...   \n",
       "214462  2019  12  저녁      경기도    건축,구조물       작동기기  전기적 요인      전기,전자   \n",
       "214463  2019  12  저녁     경상북도    건축,구조물         미상      미상  종이,목재,건초등   \n",
       "214464  2019  12  저녁    부산광역시    건축,구조물       작동기기     부주의         식품   \n",
       "214465  2019  12  저녁  제주특별자치도    건축,구조물       작동기기     부주의       합성수지   \n",
       "214466  2019  12  저녁    인천광역시    건축,구조물       작동기기  전기적 요인      전기,전자   \n",
       "\n",
       "           장소대분류  사망  부상  인명피해(명)소계  재산피해소계  \n",
       "0             주거   0   0          0    2920  \n",
       "1             임야   0   0          0       0  \n",
       "2       자동차,철도차량   0   0          0     137  \n",
       "3        판매,업무시설   0   0          0     326  \n",
       "4             주거   0   0          0       0  \n",
       "...          ...  ..  ..        ...     ...  \n",
       "214462      산업시설   0   0          0   23707  \n",
       "214463      산업시설   0   0          0    3542  \n",
       "214464   판매,업무시설   0   0          0       0  \n",
       "214465   판매,업무시설   0   0          0     105  \n",
       "214466      산업시설   0   0          0    3879  \n",
       "\n",
       "[214467 rows x 13 columns]"
      ]
     },
     "execution_count": 4,
     "metadata": {},
     "output_type": "execute_result"
    }
   ],
   "source": [
    "DIR_PATH='../Data/'\n",
    "FILE_NAME=DIR_PATH + 'fire_allyear.csv'\n",
    "FIRE=pd.read_csv(FILE_NAME, encoding='cp949')\n",
    "FIRE"
   ]
  },
  {
   "cell_type": "code",
   "execution_count": 5,
   "id": "eb192195",
   "metadata": {},
   "outputs": [
    {
     "name": "stdout",
     "output_type": "stream",
     "text": [
      "<class 'pandas.core.frame.DataFrame'>\n",
      "RangeIndex: 214467 entries, 0 to 214466\n",
      "Data columns (total 13 columns):\n",
      " #   Column     Non-Null Count   Dtype \n",
      "---  ------     --------------   ----- \n",
      " 0   년          214467 non-null  int64 \n",
      " 1   월          214467 non-null  int64 \n",
      " 2   시간대        214467 non-null  object\n",
      " 3   시도         214467 non-null  object\n",
      " 4   화재유형       214467 non-null  object\n",
      " 5   발화열원대분류    214467 non-null  object\n",
      " 6   발화요인대분류    214467 non-null  object\n",
      " 7   최초착화물대분류   214467 non-null  object\n",
      " 8   장소대분류      214467 non-null  object\n",
      " 9   사망         214467 non-null  int64 \n",
      " 10  부상         214467 non-null  int64 \n",
      " 11  인명피해(명)소계  214467 non-null  int64 \n",
      " 12  재산피해소계     214467 non-null  int64 \n",
      "dtypes: int64(6), object(7)\n",
      "memory usage: 21.3+ MB\n"
     ]
    }
   ],
   "source": [
    "FIRE.info()"
   ]
  },
  {
   "cell_type": "code",
   "execution_count": 6,
   "id": "37ab32c1",
   "metadata": {},
   "outputs": [
    {
     "data": {
      "text/plain": [
       "<function matplotlib.pyplot.show(close=None, block=None)>"
      ]
     },
     "execution_count": 6,
     "metadata": {},
     "output_type": "execute_result"
    },
    {
     "data": {
      "image/png": "[encoded data removed]",
      "text/plain": [
       "<Figure size 432x288 with 1 Axes>"
      ]
     },
     "metadata": {
      "needs_background": "light"
     },
     "output_type": "display_data"
    }
   ],
   "source": [
    "fireType = pd.DataFrame( FIRE['화재유형'].value_counts() )\n",
    "fireType.plot(kind='bar', color='skyblue')\n",
    "plt.ylabel('화재건수')                  \n",
    "plt.title('유형별 화재건수')                                           \n",
    "plt.show"
   ]
  },
  {
   "cell_type": "code",
   "execution_count": 7,
   "id": "aa7bb9e9",
   "metadata": {},
   "outputs": [
    {
     "data": {
      "text/plain": [
       "<function matplotlib.pyplot.show(close=None, block=None)>"
      ]
     },
     "execution_count": 7,
     "metadata": {},
     "output_type": "execute_result"
    },
    {
     "data": {
      "image/png": "[encoded data removed]",
      "text/plain": [
       "<Figure size 432x288 with 1 Axes>"
      ]
     },
     "metadata": {
      "needs_background": "light"
     },
     "output_type": "display_data"
    }
   ],
   "source": [
    "hitPoint = pd.DataFrame( FIRE['발화열원대분류'].value_counts() )\n",
    "hitPoint.plot(kind='bar', color='skyblue')\n",
    "plt.ylabel('화재건수')                  \n",
    "plt.title('발화열원 대분류별 화재건수')                                           \n",
    "plt.show"
   ]
  },
  {
   "cell_type": "code",
   "execution_count": 8,
   "id": "fa60b297",
   "metadata": {},
   "outputs": [
    {
     "data": {
      "text/plain": [
       "<function matplotlib.pyplot.show(close=None, block=None)>"
      ]
     },
     "execution_count": 8,
     "metadata": {},
     "output_type": "execute_result"
    },
    {
     "data": {
      "image/png": "[encoded data removed]",
      "text/plain": [
       "<Figure size 432x288 with 1 Axes>"
      ]
     },
     "metadata": {
      "needs_background": "light"
     },
     "output_type": "display_data"
    }
   ],
   "source": [
    "source = pd.DataFrame( FIRE['발화요인대분류'].value_counts() )\n",
    "source.plot(kind='bar', color='skyblue')\n",
    "plt.ylabel('화재건수')                  \n",
    "plt.title('발화요인별 화재건수')                                           \n",
    "plt.show"
   ]
  },
  {
   "cell_type": "code",
   "execution_count": 9,
   "id": "bb3b2716",
   "metadata": {
    "scrolled": true
   },
   "outputs": [
    {
     "data": {
      "image/png": "[encoded data removed]",
      "text/plain": [
       "<Figure size 432x288 with 1 Axes>"
      ]
     },
     "metadata": {
      "needs_background": "light"
     },
     "output_type": "display_data"
    }
   ],
   "source": [
    "# 년도별 화재발생건수 비교\n",
    "fire_1=FIRE.groupby('년').count()['시도'].sort_values(ascending=False)\n",
    "fire_1\n",
    "\n",
    "# 년도별 화재발생건수 비교 그래프\n",
    "x = fire_1.index\n",
    "y = fire_1.values\n",
    "\n",
    "plt.bar(x,y)\n",
    "plt.ylim(35000, 45000)\n",
    "plt.title('년도별 화재 발생건수 비교')\n",
    "plt.show()"
   ]
  },
  {
   "cell_type": "code",
   "execution_count": 10,
   "id": "58c71ee0",
   "metadata": {},
   "outputs": [
    {
     "data": {
      "image/png": "[encoded data removed]",
      "text/plain": [
       "<Figure size 432x288 with 1 Axes>"
      ]
     },
     "metadata": {
      "needs_background": "light"
     },
     "output_type": "display_data"
    }
   ],
   "source": [
    "# 년도별 재산피해 합계 비교\n",
    "fire_33=FIRE.groupby('년').sum()['재산피해소계'].sort_values(ascending=False)\n",
    "fire_33\n",
    "\n",
    "# 년도별 재산피해 합계 비교 그래프\n",
    "x = fire_33.index\n",
    "y = fire_33.values\n",
    "\n",
    "plt.bar(x,y)\n",
    "plt.ylim(0, 900000000)\n",
    "plt.title('년도별 화재 재산피해 합계 비교')\n",
    "plt.show()"
   ]
  },
  {
   "cell_type": "markdown",
   "id": "e87587d6",
   "metadata": {},
   "source": [
    "# 참고문헌\n",
    "- 최기옥. \"전기스위치의 구조적 문제점 고찰.\" 한국화재조사학회 학술대회 2020.11 (2020): 77-82.\n",
    "\n",
    "- 임경범. \"부주의가 부른 물류창고 화재의 진실.\" 한국화재조사학회 학술대회 2013.3 (2013): 122-122.\n",
    "\n",
    "- 김동욱(Kim Dong-Ook),송길목(Shong Kil-Mok),김동우(Kim Dong-Woo),and 최충석(Choi Chung-Seog). \"부주의에 의해 출화된 모발건조기의 화재사례 연구.\" 한국화재소방학회 학술대회 논문집 2005.춘계 (2005): 26-30.\n",
    "\n",
    "- 최진만,and Choe Jin-Man. \"화재사례 - 음식물 취급 부주의 화재 분석.\" 防災와 保險 142.- (2011): 44-47.\n",
    "\n",
    "- 양성환,and Yang Seong-Hwan. \"동절기 화재는 부주의와 무관심에서 비롯.\" 防災와 保險 40.- (1989): 18-20.\n",
    "\n",
    "- 이유빈,and 이창원. \"온실 난방용 히팅케이블의 화재위험성에 관한 연구.\" 한국화재감식학회 학회지 9.2 (2018): 61-79.\n",
    "\n",
    "- 김대곤,정성군,and 김유원. \"전기적 요인에 의한 화재와 부주의로 인한 화재.\" 한국화재조사학회 학술대회 2020.11 (2020): 155-155."
   ]
  },
  {
   "cell_type": "code",
   "execution_count": null,
   "id": "8a523072",
   "metadata": {},
   "outputs": [],
   "source": []
  }
 ],
 "metadata": {
  "kernelspec": {
   "display_name": "Python 3 (ipykernel)",
   "language": "python",
   "name": "python3"
  },
  "language_info": {
   "codemirror_mode": {
    "name": "ipython",
    "version": 3
   },
   "file_extension": ".py",
   "mimetype": "text/x-python",
   "name": "python",
   "nbconvert_exporter": "python",
   "pygments_lexer": "ipython3",
   "version": "3.9.12"
  }
 },
 "nbformat": 4,
 "nbformat_minor": 5
}
