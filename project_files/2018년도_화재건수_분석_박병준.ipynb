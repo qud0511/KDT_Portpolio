{
 "cells": [
  {
   "cell_type": "markdown",
   "id": "8e2ac1a8",
   "metadata": {},
   "source": [
    "# 2018 분석 박병준"
   ]
  },
  {
   "cell_type": "code",
   "execution_count": 25,
   "id": "abdfee21",
   "metadata": {},
   "outputs": [],
   "source": [
    "# 모듈\n",
    "import pandas as pd\n",
    "import matplotlib.pyplot as plt\n",
    "from matplotlib import font_manager as fm, rc"
   ]
  },
  {
   "cell_type": "code",
   "execution_count": 26,
   "id": "2b0ecef4",
   "metadata": {},
   "outputs": [],
   "source": [
    "# 폰트 등록\n",
    "FONT_PATH = '../Fonts/malgun.ttf'\n",
    "font_name = fm.FontProperties(fname=FONT_PATH).get_name()\n",
    "rc('font', family=font_name)\n",
    "# 그래프의 한글 텍스트가 깨지지 않기 위함."
   ]
  },
  {
   "cell_type": "markdown",
   "id": "390d0070",
   "metadata": {},
   "source": [
    "## 소방청 연간화재통계 2015 ~ 2019 통합파일 읽어오기"
   ]
  },
  {
   "cell_type": "code",
   "execution_count": 27,
   "id": "fefe6832",
   "metadata": {
    "scrolled": true
   },
   "outputs": [
    {
     "data": {
      "text/html": [
       "<div>\n",
       "<style scoped>\n",
       "    .dataframe tbody tr th:only-of-type {\n",
       "        vertical-align: middle;\n",
       "    }\n",
       "\n",
       "    .dataframe tbody tr th {\n",
       "        vertical-align: top;\n",
       "    }\n",
       "\n",
       "    .dataframe thead th {\n",
       "        text-align: right;\n",
       "    }\n",
       "</style>\n",
       "<table border=\"1\" class=\"dataframe\">\n",
       "  <thead>\n",
       "    <tr style=\"text-align: right;\">\n",
       "      <th></th>\n",
       "      <th>년</th>\n",
       "      <th>월</th>\n",
       "      <th>시간대</th>\n",
       "      <th>시도</th>\n",
       "      <th>화재유형</th>\n",
       "      <th>발화열원대분류</th>\n",
       "      <th>발화요인대분류</th>\n",
       "      <th>최초착화물대분류</th>\n",
       "      <th>장소대분류</th>\n",
       "      <th>사망</th>\n",
       "      <th>부상</th>\n",
       "      <th>인명피해(명)소계</th>\n",
       "      <th>재산피해소계</th>\n",
       "    </tr>\n",
       "  </thead>\n",
       "  <tbody>\n",
       "    <tr>\n",
       "      <th>0</th>\n",
       "      <td>2015</td>\n",
       "      <td>1</td>\n",
       "      <td>심야</td>\n",
       "      <td>경상남도</td>\n",
       "      <td>건축,구조물</td>\n",
       "      <td>작동기기</td>\n",
       "      <td>전기적 요인</td>\n",
       "      <td>전기,전자</td>\n",
       "      <td>주거</td>\n",
       "      <td>0</td>\n",
       "      <td>0</td>\n",
       "      <td>0</td>\n",
       "      <td>2920</td>\n",
       "    </tr>\n",
       "    <tr>\n",
       "      <th>1</th>\n",
       "      <td>2015</td>\n",
       "      <td>1</td>\n",
       "      <td>심야</td>\n",
       "      <td>서울특별시</td>\n",
       "      <td>임야</td>\n",
       "      <td>담뱃불, 라이터불</td>\n",
       "      <td>부주의</td>\n",
       "      <td>기타</td>\n",
       "      <td>임야</td>\n",
       "      <td>0</td>\n",
       "      <td>0</td>\n",
       "      <td>0</td>\n",
       "      <td>0</td>\n",
       "    </tr>\n",
       "    <tr>\n",
       "      <th>2</th>\n",
       "      <td>2015</td>\n",
       "      <td>1</td>\n",
       "      <td>심야</td>\n",
       "      <td>서울특별시</td>\n",
       "      <td>자동차,철도차량</td>\n",
       "      <td>담뱃불, 라이터불</td>\n",
       "      <td>부주의</td>\n",
       "      <td>침구,직물류</td>\n",
       "      <td>자동차,철도차량</td>\n",
       "      <td>0</td>\n",
       "      <td>0</td>\n",
       "      <td>0</td>\n",
       "      <td>137</td>\n",
       "    </tr>\n",
       "    <tr>\n",
       "      <th>3</th>\n",
       "      <td>2015</td>\n",
       "      <td>1</td>\n",
       "      <td>심야</td>\n",
       "      <td>서울특별시</td>\n",
       "      <td>건축,구조물</td>\n",
       "      <td>담뱃불, 라이터불</td>\n",
       "      <td>부주의</td>\n",
       "      <td>종이,목재,건초등</td>\n",
       "      <td>판매,업무시설</td>\n",
       "      <td>0</td>\n",
       "      <td>0</td>\n",
       "      <td>0</td>\n",
       "      <td>326</td>\n",
       "    </tr>\n",
       "    <tr>\n",
       "      <th>4</th>\n",
       "      <td>2015</td>\n",
       "      <td>1</td>\n",
       "      <td>심야</td>\n",
       "      <td>부산광역시</td>\n",
       "      <td>건축,구조물</td>\n",
       "      <td>작동기기</td>\n",
       "      <td>부주의</td>\n",
       "      <td>식품</td>\n",
       "      <td>주거</td>\n",
       "      <td>0</td>\n",
       "      <td>0</td>\n",
       "      <td>0</td>\n",
       "      <td>0</td>\n",
       "    </tr>\n",
       "    <tr>\n",
       "      <th>...</th>\n",
       "      <td>...</td>\n",
       "      <td>...</td>\n",
       "      <td>...</td>\n",
       "      <td>...</td>\n",
       "      <td>...</td>\n",
       "      <td>...</td>\n",
       "      <td>...</td>\n",
       "      <td>...</td>\n",
       "      <td>...</td>\n",
       "      <td>...</td>\n",
       "      <td>...</td>\n",
       "      <td>...</td>\n",
       "      <td>...</td>\n",
       "    </tr>\n",
       "    <tr>\n",
       "      <th>214462</th>\n",
       "      <td>2019</td>\n",
       "      <td>12</td>\n",
       "      <td>저녁</td>\n",
       "      <td>경기도</td>\n",
       "      <td>건축,구조물</td>\n",
       "      <td>작동기기</td>\n",
       "      <td>전기적 요인</td>\n",
       "      <td>전기,전자</td>\n",
       "      <td>산업시설</td>\n",
       "      <td>0</td>\n",
       "      <td>0</td>\n",
       "      <td>0</td>\n",
       "      <td>23707</td>\n",
       "    </tr>\n",
       "    <tr>\n",
       "      <th>214463</th>\n",
       "      <td>2019</td>\n",
       "      <td>12</td>\n",
       "      <td>저녁</td>\n",
       "      <td>경상북도</td>\n",
       "      <td>건축,구조물</td>\n",
       "      <td>미상</td>\n",
       "      <td>미상</td>\n",
       "      <td>종이,목재,건초등</td>\n",
       "      <td>산업시설</td>\n",
       "      <td>0</td>\n",
       "      <td>0</td>\n",
       "      <td>0</td>\n",
       "      <td>3542</td>\n",
       "    </tr>\n",
       "    <tr>\n",
       "      <th>214464</th>\n",
       "      <td>2019</td>\n",
       "      <td>12</td>\n",
       "      <td>저녁</td>\n",
       "      <td>부산광역시</td>\n",
       "      <td>건축,구조물</td>\n",
       "      <td>작동기기</td>\n",
       "      <td>부주의</td>\n",
       "      <td>식품</td>\n",
       "      <td>판매,업무시설</td>\n",
       "      <td>0</td>\n",
       "      <td>0</td>\n",
       "      <td>0</td>\n",
       "      <td>0</td>\n",
       "    </tr>\n",
       "    <tr>\n",
       "      <th>214465</th>\n",
       "      <td>2019</td>\n",
       "      <td>12</td>\n",
       "      <td>저녁</td>\n",
       "      <td>제주특별자치도</td>\n",
       "      <td>건축,구조물</td>\n",
       "      <td>작동기기</td>\n",
       "      <td>부주의</td>\n",
       "      <td>합성수지</td>\n",
       "      <td>판매,업무시설</td>\n",
       "      <td>0</td>\n",
       "      <td>0</td>\n",
       "      <td>0</td>\n",
       "      <td>105</td>\n",
       "    </tr>\n",
       "    <tr>\n",
       "      <th>214466</th>\n",
       "      <td>2019</td>\n",
       "      <td>12</td>\n",
       "      <td>저녁</td>\n",
       "      <td>인천광역시</td>\n",
       "      <td>건축,구조물</td>\n",
       "      <td>작동기기</td>\n",
       "      <td>전기적 요인</td>\n",
       "      <td>전기,전자</td>\n",
       "      <td>산업시설</td>\n",
       "      <td>0</td>\n",
       "      <td>0</td>\n",
       "      <td>0</td>\n",
       "      <td>3879</td>\n",
       "    </tr>\n",
       "  </tbody>\n",
       "</table>\n",
       "<p>214467 rows × 13 columns</p>\n",
       "</div>"
      ],
      "text/plain": [
       "           년   월 시간대       시도      화재유형    발화열원대분류 발화요인대분류   최초착화물대분류  \\\n",
       "0       2015   1  심야     경상남도    건축,구조물       작동기기  전기적 요인      전기,전자   \n",
       "1       2015   1  심야    서울특별시        임야  담뱃불, 라이터불     부주의         기타   \n",
       "2       2015   1  심야    서울특별시  자동차,철도차량  담뱃불, 라이터불     부주의     침구,직물류   \n",
       "3       2015   1  심야    서울특별시    건축,구조물  담뱃불, 라이터불     부주의  종이,목재,건초등   \n",
       "4       2015   1  심야    부산광역시    건축,구조물       작동기기     부주의         식품   \n",
       "...      ...  ..  ..      ...       ...        ...     ...        ...   \n",
       "214462  2019  12  저녁      경기도    건축,구조물       작동기기  전기적 요인      전기,전자   \n",
       "214463  2019  12  저녁     경상북도    건축,구조물         미상      미상  종이,목재,건초등   \n",
       "214464  2019  12  저녁    부산광역시    건축,구조물       작동기기     부주의         식품   \n",
       "214465  2019  12  저녁  제주특별자치도    건축,구조물       작동기기     부주의       합성수지   \n",
       "214466  2019  12  저녁    인천광역시    건축,구조물       작동기기  전기적 요인      전기,전자   \n",
       "\n",
       "           장소대분류  사망  부상  인명피해(명)소계  재산피해소계  \n",
       "0             주거   0   0          0    2920  \n",
       "1             임야   0   0          0       0  \n",
       "2       자동차,철도차량   0   0          0     137  \n",
       "3        판매,업무시설   0   0          0     326  \n",
       "4             주거   0   0          0       0  \n",
       "...          ...  ..  ..        ...     ...  \n",
       "214462      산업시설   0   0          0   23707  \n",
       "214463      산업시설   0   0          0    3542  \n",
       "214464   판매,업무시설   0   0          0       0  \n",
       "214465   판매,업무시설   0   0          0     105  \n",
       "214466      산업시설   0   0          0    3879  \n",
       "\n",
       "[214467 rows x 13 columns]"
      ]
     },
     "execution_count": 27,
     "metadata": {},
     "output_type": "execute_result"
    }
   ],
   "source": [
    "DIR_PATH='../Data/'\n",
    "FILE_NAME=DIR_PATH + 'fire_allyear.csv'\n",
    "FIRE=pd.read_csv(FILE_NAME, encoding='cp949') # 'KOR_EUC' 상위호환\n",
    "FIRE"
   ]
  },
  {
   "cell_type": "markdown",
   "id": "6f496061",
   "metadata": {},
   "source": [
    "## 소방청 연간화재통계 2018년 데이터 추출하기"
   ]
  },
  {
   "cell_type": "code",
   "execution_count": 5,
   "id": "2bedd702",
   "metadata": {},
   "outputs": [],
   "source": [
    "# yearIndex = FIRE.set_index('년')\n",
    "# fire2018 = yearIndex.loc[2018]\n",
    "# fire2018"
   ]
  },
  {
   "cell_type": "code",
   "execution_count": 29,
   "id": "61cb4d4d",
   "metadata": {
    "scrolled": true
   },
   "outputs": [
    {
     "name": "stdout",
     "output_type": "stream",
     "text": [
      "<class 'pandas.core.frame.DataFrame'>\n",
      "Int64Index: 42338 entries, 132026 to 174363\n",
      "Data columns (total 13 columns):\n",
      " #   Column     Non-Null Count  Dtype \n",
      "---  ------     --------------  ----- \n",
      " 0   년          42338 non-null  object\n",
      " 1   월          42338 non-null  object\n",
      " 2   시간대        42338 non-null  object\n",
      " 3   시도         42338 non-null  object\n",
      " 4   화재유형       42338 non-null  object\n",
      " 5   발화열원대분류    42338 non-null  object\n",
      " 6   발화요인대분류    42338 non-null  object\n",
      " 7   최초착화물대분류   42338 non-null  object\n",
      " 8   장소대분류      42338 non-null  object\n",
      " 9   사망         42338 non-null  int64 \n",
      " 10  부상         42338 non-null  int64 \n",
      " 11  인명피해(명)소계  42338 non-null  int64 \n",
      " 12  재산피해소계     42338 non-null  int64 \n",
      "dtypes: int64(4), object(9)\n",
      "memory usage: 4.5+ MB\n"
     ]
    },
    {
     "name": "stderr",
     "output_type": "stream",
     "text": [
      "C:\\Users\\whrjs\\AppData\\Local\\Temp\\ipykernel_20440\\3816624230.py:4: SettingWithCopyWarning: \n",
      "A value is trying to be set on a copy of a slice from a DataFrame.\n",
      "Try using .loc[row_indexer,col_indexer] = value instead\n",
      "\n",
      "See the caveats in the documentation: https://pandas.pydata.org/pandas-docs/stable/user_guide/indexing.html#returning-a-view-versus-a-copy\n",
      "  year2018['년'] = year2018['년'].astype(str)    # count(), sum(), value_counts() 등 DF메서드를 사용할 때\n",
      "C:\\Users\\whrjs\\AppData\\Local\\Temp\\ipykernel_20440\\3816624230.py:5: SettingWithCopyWarning: \n",
      "A value is trying to be set on a copy of a slice from a DataFrame.\n",
      "Try using .loc[row_indexer,col_indexer] = value instead\n",
      "\n",
      "See the caveats in the documentation: https://pandas.pydata.org/pandas-docs/stable/user_guide/indexing.html#returning-a-view-versus-a-copy\n",
      "  year2018['월'] = year2018['월'].astype(str)    # '년', '월'이 무의미하게 더해지는 것을 막기 위함.\n"
     ]
    }
   ],
   "source": [
    "year2018 = FIRE[ FIRE['년']==2018 ]\n",
    "\n",
    "# year2018 = year2018.iloc[:, 1:]          # Unnamed: 0 -> 없애기 위해\n",
    "year2018['년'] = year2018['년'].astype(str)    # count(), sum(), value_counts() 등 DF메서드를 사용할 때\n",
    "year2018['월'] = year2018['월'].astype(str)    # '년', '월'이 무의미하게 더해지는 것을 막기 위함.\n",
    "year2018.info()"
   ]
  },
  {
   "cell_type": "code",
   "execution_count": 84,
   "id": "a8a4dcfb",
   "metadata": {},
   "outputs": [
    {
     "data": {
      "text/plain": [
       "년            0\n",
       "월            0\n",
       "시간대          0\n",
       "시도           0\n",
       "화재유형         0\n",
       "발화열원대분류      0\n",
       "발화요인대분류      0\n",
       "최초착화물대분류     0\n",
       "장소대분류        0\n",
       "사망           0\n",
       "부상           0\n",
       "인명피해(명)소계    0\n",
       "재산피해소계       0\n",
       "dtype: int64"
      ]
     },
     "execution_count": 84,
     "metadata": {},
     "output_type": "execute_result"
    }
   ],
   "source": [
    "year2018.isnull().sum()"
   ]
  },
  {
   "cell_type": "markdown",
   "id": "bbb9a120",
   "metadata": {},
   "source": [
    "# 2018년 시/도별 화재건수 => 경기도"
   ]
  },
  {
   "cell_type": "code",
   "execution_count": 30,
   "id": "2ed6bbf8",
   "metadata": {},
   "outputs": [
    {
     "data": {
      "text/html": [
       "<div>\n",
       "<style scoped>\n",
       "    .dataframe tbody tr th:only-of-type {\n",
       "        vertical-align: middle;\n",
       "    }\n",
       "\n",
       "    .dataframe tbody tr th {\n",
       "        vertical-align: top;\n",
       "    }\n",
       "\n",
       "    .dataframe thead th {\n",
       "        text-align: right;\n",
       "    }\n",
       "</style>\n",
       "<table border=\"1\" class=\"dataframe\">\n",
       "  <thead>\n",
       "    <tr style=\"text-align: right;\">\n",
       "      <th></th>\n",
       "      <th>시도</th>\n",
       "    </tr>\n",
       "  </thead>\n",
       "  <tbody>\n",
       "    <tr>\n",
       "      <th>경기도</th>\n",
       "      <td>9632</td>\n",
       "    </tr>\n",
       "    <tr>\n",
       "      <th>서울특별시</th>\n",
       "      <td>6368</td>\n",
       "    </tr>\n",
       "    <tr>\n",
       "      <th>경상남도</th>\n",
       "      <td>3482</td>\n",
       "    </tr>\n",
       "    <tr>\n",
       "      <th>경상북도</th>\n",
       "      <td>2686</td>\n",
       "    </tr>\n",
       "    <tr>\n",
       "      <th>전라남도</th>\n",
       "      <td>2635</td>\n",
       "    </tr>\n",
       "    <tr>\n",
       "      <th>충청남도</th>\n",
       "      <td>2605</td>\n",
       "    </tr>\n",
       "    <tr>\n",
       "      <th>부산광역시</th>\n",
       "      <td>2471</td>\n",
       "    </tr>\n",
       "    <tr>\n",
       "      <th>강원도</th>\n",
       "      <td>2228</td>\n",
       "    </tr>\n",
       "    <tr>\n",
       "      <th>전라북도</th>\n",
       "      <td>2044</td>\n",
       "    </tr>\n",
       "    <tr>\n",
       "      <th>인천광역시</th>\n",
       "      <td>1620</td>\n",
       "    </tr>\n",
       "    <tr>\n",
       "      <th>대구광역시</th>\n",
       "      <td>1440</td>\n",
       "    </tr>\n",
       "    <tr>\n",
       "      <th>충청북도</th>\n",
       "      <td>1414</td>\n",
       "    </tr>\n",
       "    <tr>\n",
       "      <th>대전광역시</th>\n",
       "      <td>1094</td>\n",
       "    </tr>\n",
       "    <tr>\n",
       "      <th>울산광역시</th>\n",
       "      <td>887</td>\n",
       "    </tr>\n",
       "    <tr>\n",
       "      <th>광주광역시</th>\n",
       "      <td>860</td>\n",
       "    </tr>\n",
       "    <tr>\n",
       "      <th>제주특별자치도</th>\n",
       "      <td>636</td>\n",
       "    </tr>\n",
       "    <tr>\n",
       "      <th>세종특별자치시</th>\n",
       "      <td>236</td>\n",
       "    </tr>\n",
       "  </tbody>\n",
       "</table>\n",
       "</div>"
      ],
      "text/plain": [
       "           시도\n",
       "경기도      9632\n",
       "서울특별시    6368\n",
       "경상남도     3482\n",
       "경상북도     2686\n",
       "전라남도     2635\n",
       "충청남도     2605\n",
       "부산광역시    2471\n",
       "강원도      2228\n",
       "전라북도     2044\n",
       "인천광역시    1620\n",
       "대구광역시    1440\n",
       "충청북도     1414\n",
       "대전광역시    1094\n",
       "울산광역시     887\n",
       "광주광역시     860\n",
       "제주특별자치도   636\n",
       "세종특별자치시   236"
      ]
     },
     "execution_count": 30,
     "metadata": {},
     "output_type": "execute_result"
    }
   ],
   "source": [
    "State = pd.DataFrame( year2018['시도'].value_counts().sort_values(ascending=False) )\n",
    "State\n",
    "# year2018의 데이터 값에 대한 갯수를 구하고, 정렬 -> DataFrame으로 보기좋게 묶음."
   ]
  },
  {
   "cell_type": "code",
   "execution_count": 43,
   "id": "a611e287",
   "metadata": {},
   "outputs": [
    {
     "data": {
      "text/plain": [
       "2490.470588235294"
      ]
     },
     "execution_count": 43,
     "metadata": {},
     "output_type": "execute_result"
    }
   ],
   "source": [
    "a = State.mean()\n",
    "a = a.values[0]\n",
    "a"
   ]
  },
  {
   "cell_type": "code",
   "execution_count": 93,
   "id": "bc1c0854",
   "metadata": {},
   "outputs": [
    {
     "data": {
      "text/plain": [
       "<Figure size 576x576 with 0 Axes>"
      ]
     },
     "metadata": {},
     "output_type": "display_data"
    },
    {
     "data": {
      "image/png": "[encoded data removed]",
      "text/plain": [
       "<Figure size 432x288 with 1 Axes>"
      ]
     },
     "metadata": {
      "needs_background": "light"
     },
     "output_type": "display_data"
    }
   ],
   "source": [
    "plt.figure(figsize=(8,8))\n",
    "State.plot(kind='bar')\n",
    "# 그래프 막대 색깔 바꾸기 실패\n",
    "plt.ylabel('화재건수')                  \n",
    "plt.title('2018년 시/도별 화재건수')\n",
    "plt.plot([a,a,a,a,a,a,a,a,a,a,a,a,a,a,a,a,a],color='black')\n",
    "plt.legend(['평균','건수'])\n",
    "\n",
    "plt.show()"
   ]
  },
  {
   "cell_type": "markdown",
   "id": "2e409045",
   "metadata": {},
   "source": [
    "# 2018년 월별 화재건수 => 겨울"
   ]
  },
  {
   "cell_type": "code",
   "execution_count": 47,
   "id": "90db9f36",
   "metadata": {},
   "outputs": [
    {
     "data": {
      "text/html": [
       "<div>\n",
       "<style scoped>\n",
       "    .dataframe tbody tr th:only-of-type {\n",
       "        vertical-align: middle;\n",
       "    }\n",
       "\n",
       "    .dataframe tbody tr th {\n",
       "        vertical-align: top;\n",
       "    }\n",
       "\n",
       "    .dataframe thead th {\n",
       "        text-align: right;\n",
       "    }\n",
       "</style>\n",
       "<table border=\"1\" class=\"dataframe\">\n",
       "  <thead>\n",
       "    <tr style=\"text-align: right;\">\n",
       "      <th></th>\n",
       "      <th>월</th>\n",
       "    </tr>\n",
       "  </thead>\n",
       "  <tbody>\n",
       "    <tr>\n",
       "      <th>2</th>\n",
       "      <td>4632</td>\n",
       "    </tr>\n",
       "    <tr>\n",
       "      <th>1</th>\n",
       "      <td>4083</td>\n",
       "    </tr>\n",
       "    <tr>\n",
       "      <th>12</th>\n",
       "      <td>3937</td>\n",
       "    </tr>\n",
       "    <tr>\n",
       "      <th>3</th>\n",
       "      <td>3875</td>\n",
       "    </tr>\n",
       "    <tr>\n",
       "      <th>4</th>\n",
       "      <td>3714</td>\n",
       "    </tr>\n",
       "    <tr>\n",
       "      <th>8</th>\n",
       "      <td>3690</td>\n",
       "    </tr>\n",
       "    <tr>\n",
       "      <th>6</th>\n",
       "      <td>3441</td>\n",
       "    </tr>\n",
       "    <tr>\n",
       "      <th>7</th>\n",
       "      <td>3409</td>\n",
       "    </tr>\n",
       "    <tr>\n",
       "      <th>10</th>\n",
       "      <td>3048</td>\n",
       "    </tr>\n",
       "    <tr>\n",
       "      <th>5</th>\n",
       "      <td>3038</td>\n",
       "    </tr>\n",
       "    <tr>\n",
       "      <th>11</th>\n",
       "      <td>2954</td>\n",
       "    </tr>\n",
       "    <tr>\n",
       "      <th>9</th>\n",
       "      <td>2517</td>\n",
       "    </tr>\n",
       "  </tbody>\n",
       "</table>\n",
       "</div>"
      ],
      "text/plain": [
       "       월\n",
       "2   4632\n",
       "1   4083\n",
       "12  3937\n",
       "3   3875\n",
       "4   3714\n",
       "8   3690\n",
       "6   3441\n",
       "7   3409\n",
       "10  3048\n",
       "5   3038\n",
       "11  2954\n",
       "9   2517"
      ]
     },
     "execution_count": 47,
     "metadata": {},
     "output_type": "execute_result"
    }
   ],
   "source": [
    "fireMonth = pd.DataFrame( year2018['월'].value_counts() )\n",
    "fireMonth"
   ]
  },
  {
   "cell_type": "code",
   "execution_count": 48,
   "id": "857992b5",
   "metadata": {},
   "outputs": [
    {
     "data": {
      "text/html": [
       "<div>\n",
       "<style scoped>\n",
       "    .dataframe tbody tr th:only-of-type {\n",
       "        vertical-align: middle;\n",
       "    }\n",
       "\n",
       "    .dataframe tbody tr th {\n",
       "        vertical-align: top;\n",
       "    }\n",
       "\n",
       "    .dataframe thead th {\n",
       "        text-align: right;\n",
       "    }\n",
       "</style>\n",
       "<table border=\"1\" class=\"dataframe\">\n",
       "  <thead>\n",
       "    <tr style=\"text-align: right;\">\n",
       "      <th></th>\n",
       "      <th>0</th>\n",
       "    </tr>\n",
       "  </thead>\n",
       "  <tbody>\n",
       "    <tr>\n",
       "      <th>월</th>\n",
       "      <td>3528.166667</td>\n",
       "    </tr>\n",
       "  </tbody>\n",
       "</table>\n",
       "</div>"
      ],
      "text/plain": [
       "             0\n",
       "월  3528.166667"
      ]
     },
     "execution_count": 48,
     "metadata": {},
     "output_type": "execute_result"
    }
   ],
   "source": [
    "b = pd.DataFrame( fireMonth.mean() )\n",
    "b"
   ]
  },
  {
   "cell_type": "code",
   "execution_count": 49,
   "id": "b3dc2c3d",
   "metadata": {},
   "outputs": [
    {
     "data": {
      "text/plain": [
       "<function matplotlib.pyplot.show(close=None, block=None)>"
      ]
     },
     "execution_count": 49,
     "metadata": {},
     "output_type": "execute_result"
    },
    {
     "data": {
      "image/png": "[encoded data removed]",
      "text/plain": [
       "<Figure size 432x288 with 1 Axes>"
      ]
     },
     "metadata": {
      "needs_background": "light"
     },
     "output_type": "display_data"
    }
   ],
   "source": [
    "fireMonth.plot(kind='bar', color='skyblue')\n",
    "plt.ylabel('화재건수')                  \n",
    "plt.title('2018년 월별 화재건수')\n",
    "plt.show"
   ]
  },
  {
   "cell_type": "markdown",
   "id": "e7291c5c",
   "metadata": {},
   "source": [
    "# 2018년 화재의 시간대 => 낮"
   ]
  },
  {
   "cell_type": "code",
   "execution_count": 50,
   "id": "4b8d172e",
   "metadata": {},
   "outputs": [
    {
     "data": {
      "text/html": [
       "<div>\n",
       "<style scoped>\n",
       "    .dataframe tbody tr th:only-of-type {\n",
       "        vertical-align: middle;\n",
       "    }\n",
       "\n",
       "    .dataframe tbody tr th {\n",
       "        vertical-align: top;\n",
       "    }\n",
       "\n",
       "    .dataframe thead th {\n",
       "        text-align: right;\n",
       "    }\n",
       "</style>\n",
       "<table border=\"1\" class=\"dataframe\">\n",
       "  <thead>\n",
       "    <tr style=\"text-align: right;\">\n",
       "      <th></th>\n",
       "      <th>년</th>\n",
       "    </tr>\n",
       "    <tr>\n",
       "      <th>시간대</th>\n",
       "      <th></th>\n",
       "    </tr>\n",
       "  </thead>\n",
       "  <tbody>\n",
       "    <tr>\n",
       "      <th>낮</th>\n",
       "      <td>15419</td>\n",
       "    </tr>\n",
       "    <tr>\n",
       "      <th>심야</th>\n",
       "      <td>6105</td>\n",
       "    </tr>\n",
       "    <tr>\n",
       "      <th>아침</th>\n",
       "      <td>10183</td>\n",
       "    </tr>\n",
       "    <tr>\n",
       "      <th>저녁</th>\n",
       "      <td>10631</td>\n",
       "    </tr>\n",
       "  </tbody>\n",
       "</table>\n",
       "</div>"
      ],
      "text/plain": [
       "         년\n",
       "시간대       \n",
       "낮    15419\n",
       "심야    6105\n",
       "아침   10183\n",
       "저녁   10631"
      ]
     },
     "execution_count": 50,
     "metadata": {},
     "output_type": "execute_result"
    }
   ],
   "source": [
    "fireTime = year2018.groupby('시간대').count()['년']\n",
    "pd.DataFrame(fireTime)"
   ]
  },
  {
   "cell_type": "code",
   "execution_count": 51,
   "id": "e2e5dbdf",
   "metadata": {},
   "outputs": [
    {
     "data": {
      "image/png": "[encoded data removed]",
      "text/plain": [
       "<Figure size 576x576 with 1 Axes>"
      ]
     },
     "metadata": {},
     "output_type": "display_data"
    }
   ],
   "source": [
    "plt.figure(figsize=(8,8))\n",
    "plt.pie(fireTime, labels = fireTime.index, autopct = '%.1f%%',colors=['red','skyblue','burlywood','beige'])\n",
    "plt.show()"
   ]
  },
  {
   "cell_type": "code",
   "execution_count": 52,
   "id": "adb8c8de",
   "metadata": {},
   "outputs": [
    {
     "data": {
      "text/plain": [
       "시간대\n",
       "낮     15419\n",
       "심야     6105\n",
       "아침    10183\n",
       "저녁    10631\n",
       "Name: 년, dtype: int64"
      ]
     },
     "execution_count": 52,
     "metadata": {},
     "output_type": "execute_result"
    }
   ],
   "source": [
    "fireTime"
   ]
  },
  {
   "cell_type": "markdown",
   "id": "2667ba86",
   "metadata": {},
   "source": [
    "# 2018년 화재의 유형 => 건축, 구조물"
   ]
  },
  {
   "cell_type": "code",
   "execution_count": 53,
   "id": "e554239c",
   "metadata": {},
   "outputs": [
    {
     "data": {
      "text/html": [
       "<div>\n",
       "<style scoped>\n",
       "    .dataframe tbody tr th:only-of-type {\n",
       "        vertical-align: middle;\n",
       "    }\n",
       "\n",
       "    .dataframe tbody tr th {\n",
       "        vertical-align: top;\n",
       "    }\n",
       "\n",
       "    .dataframe thead th {\n",
       "        text-align: right;\n",
       "    }\n",
       "</style>\n",
       "<table border=\"1\" class=\"dataframe\">\n",
       "  <thead>\n",
       "    <tr style=\"text-align: right;\">\n",
       "      <th></th>\n",
       "      <th>화재유형</th>\n",
       "    </tr>\n",
       "  </thead>\n",
       "  <tbody>\n",
       "    <tr>\n",
       "      <th>건축,구조물</th>\n",
       "      <td>28013</td>\n",
       "    </tr>\n",
       "    <tr>\n",
       "      <th>기타(쓰레기 화재등)</th>\n",
       "      <td>6847</td>\n",
       "    </tr>\n",
       "    <tr>\n",
       "      <th>자동차,철도차량</th>\n",
       "      <td>5067</td>\n",
       "    </tr>\n",
       "    <tr>\n",
       "      <th>임야</th>\n",
       "      <td>2258</td>\n",
       "    </tr>\n",
       "    <tr>\n",
       "      <th>선박,항공기</th>\n",
       "      <td>116</td>\n",
       "    </tr>\n",
       "    <tr>\n",
       "      <th>위험물,가스제조소등</th>\n",
       "      <td>37</td>\n",
       "    </tr>\n",
       "  </tbody>\n",
       "</table>\n",
       "</div>"
      ],
      "text/plain": [
       "              화재유형\n",
       "건축,구조물       28013\n",
       "기타(쓰레기 화재등)   6847\n",
       "자동차,철도차량      5067\n",
       "임야            2258\n",
       "선박,항공기         116\n",
       "위험물,가스제조소등      37"
      ]
     },
     "execution_count": 53,
     "metadata": {},
     "output_type": "execute_result"
    }
   ],
   "source": [
    "fireType = pd.DataFrame( year2018['화재유형'].value_counts() )\n",
    "fireType"
   ]
  },
  {
   "cell_type": "code",
   "execution_count": 54,
   "id": "f3b7b1c4",
   "metadata": {},
   "outputs": [
    {
     "data": {
      "text/html": [
       "<div>\n",
       "<style scoped>\n",
       "    .dataframe tbody tr th:only-of-type {\n",
       "        vertical-align: middle;\n",
       "    }\n",
       "\n",
       "    .dataframe tbody tr th {\n",
       "        vertical-align: top;\n",
       "    }\n",
       "\n",
       "    .dataframe thead th {\n",
       "        text-align: right;\n",
       "    }\n",
       "</style>\n",
       "<table border=\"1\" class=\"dataframe\">\n",
       "  <thead>\n",
       "    <tr style=\"text-align: right;\">\n",
       "      <th></th>\n",
       "      <th>0</th>\n",
       "    </tr>\n",
       "  </thead>\n",
       "  <tbody>\n",
       "    <tr>\n",
       "      <th>화재유형</th>\n",
       "      <td>7056.333333</td>\n",
       "    </tr>\n",
       "  </tbody>\n",
       "</table>\n",
       "</div>"
      ],
      "text/plain": [
       "                0\n",
       "화재유형  7056.333333"
      ]
     },
     "execution_count": 54,
     "metadata": {},
     "output_type": "execute_result"
    }
   ],
   "source": [
    "d = pd.DataFrame( fireType.mean() )\n",
    "d"
   ]
  },
  {
   "cell_type": "code",
   "execution_count": 55,
   "id": "583b42c6",
   "metadata": {},
   "outputs": [
    {
     "data": {
      "text/plain": [
       "<function matplotlib.pyplot.show(close=None, block=None)>"
      ]
     },
     "execution_count": 55,
     "metadata": {},
     "output_type": "execute_result"
    },
    {
     "data": {
      "image/png": "[encoded data removed]",
      "text/plain": [
       "<Figure size 432x288 with 1 Axes>"
      ]
     },
     "metadata": {
      "needs_background": "light"
     },
     "output_type": "display_data"
    }
   ],
   "source": [
    "fireType.plot(kind='bar', color='skyblue')\n",
    "plt.ylabel('화재건수')                  \n",
    "plt.title('2018년 유형별 화재건수')                                           \n",
    "plt.show"
   ]
  },
  {
   "cell_type": "markdown",
   "id": "91376cc6",
   "metadata": {},
   "source": [
    "# 2018년 발화열원대분류 => 작동기기"
   ]
  },
  {
   "cell_type": "code",
   "execution_count": 56,
   "id": "6d35cbd5",
   "metadata": {},
   "outputs": [
    {
     "data": {
      "text/html": [
       "<div>\n",
       "<style scoped>\n",
       "    .dataframe tbody tr th:only-of-type {\n",
       "        vertical-align: middle;\n",
       "    }\n",
       "\n",
       "    .dataframe tbody tr th {\n",
       "        vertical-align: top;\n",
       "    }\n",
       "\n",
       "    .dataframe thead th {\n",
       "        text-align: right;\n",
       "    }\n",
       "</style>\n",
       "<table border=\"1\" class=\"dataframe\">\n",
       "  <thead>\n",
       "    <tr style=\"text-align: right;\">\n",
       "      <th></th>\n",
       "      <th>발화열원대분류</th>\n",
       "    </tr>\n",
       "  </thead>\n",
       "  <tbody>\n",
       "    <tr>\n",
       "      <th>작동기기</th>\n",
       "      <td>17942</td>\n",
       "    </tr>\n",
       "    <tr>\n",
       "      <th>담뱃불, 라이터불</th>\n",
       "      <td>8048</td>\n",
       "    </tr>\n",
       "    <tr>\n",
       "      <th>불꽃, 불티</th>\n",
       "      <td>7650</td>\n",
       "    </tr>\n",
       "    <tr>\n",
       "      <th>미상</th>\n",
       "      <td>4286</td>\n",
       "    </tr>\n",
       "    <tr>\n",
       "      <th>마찰, 전도, 복사</th>\n",
       "      <td>3094</td>\n",
       "    </tr>\n",
       "    <tr>\n",
       "      <th>기타</th>\n",
       "      <td>558</td>\n",
       "    </tr>\n",
       "    <tr>\n",
       "      <th>화학적 발화열</th>\n",
       "      <td>491</td>\n",
       "    </tr>\n",
       "    <tr>\n",
       "      <th>자연적 발화열</th>\n",
       "      <td>225</td>\n",
       "    </tr>\n",
       "    <tr>\n",
       "      <th>폭발물, 폭죽</th>\n",
       "      <td>44</td>\n",
       "    </tr>\n",
       "  </tbody>\n",
       "</table>\n",
       "</div>"
      ],
      "text/plain": [
       "            발화열원대분류\n",
       "작동기기          17942\n",
       "담뱃불, 라이터불      8048\n",
       "불꽃, 불티         7650\n",
       "미상             4286\n",
       "마찰, 전도, 복사     3094\n",
       "기타              558\n",
       "화학적 발화열         491\n",
       "자연적 발화열         225\n",
       "폭발물, 폭죽          44"
      ]
     },
     "execution_count": 56,
     "metadata": {},
     "output_type": "execute_result"
    }
   ],
   "source": [
    "hitPoint = pd.DataFrame( year2018['발화열원대분류'].value_counts() )\n",
    "hitPoint"
   ]
  },
  {
   "cell_type": "code",
   "execution_count": 82,
   "id": "fd7e0345",
   "metadata": {},
   "outputs": [
    {
     "data": {
      "text/plain": [
       "4704.222222222223"
      ]
     },
     "execution_count": 82,
     "metadata": {},
     "output_type": "execute_result"
    }
   ],
   "source": [
    "e = hitPoint.mean()\n",
    "e = e.values[0]\n",
    "e"
   ]
  },
  {
   "cell_type": "code",
   "execution_count": 92,
   "id": "2e541d33",
   "metadata": {},
   "outputs": [
    {
     "data": {
      "text/plain": [
       "<function matplotlib.pyplot.show(close=None, block=None)>"
      ]
     },
     "execution_count": 92,
     "metadata": {},
     "output_type": "execute_result"
    },
    {
     "data": {
      "image/png": "[encoded data removed]",
      "text/plain": [
       "<Figure size 432x288 with 1 Axes>"
      ]
     },
     "metadata": {
      "needs_background": "light"
     },
     "output_type": "display_data"
    }
   ],
   "source": [
    "hitPoint.plot(kind='bar', color='skyblue')\n",
    "plt.ylabel('화재건수')                  \n",
    "plt.title('2018년 발화열원 대분류별 화재건수')  \n",
    "plt.plot([e,e,e,e,e,e,e,e,e],color='r')\n",
    "plt.legend(['평균','건수'])\n",
    "plt.show"
   ]
  },
  {
   "cell_type": "markdown",
   "id": "0bed1f7c",
   "metadata": {},
   "source": [
    "# 2018년 발화요인대분류 => 부주의, 전기적 요인"
   ]
  },
  {
   "cell_type": "code",
   "execution_count": 62,
   "id": "5219e0d2",
   "metadata": {},
   "outputs": [
    {
     "data": {
      "text/html": [
       "<div>\n",
       "<style scoped>\n",
       "    .dataframe tbody tr th:only-of-type {\n",
       "        vertical-align: middle;\n",
       "    }\n",
       "\n",
       "    .dataframe tbody tr th {\n",
       "        vertical-align: top;\n",
       "    }\n",
       "\n",
       "    .dataframe thead th {\n",
       "        text-align: right;\n",
       "    }\n",
       "</style>\n",
       "<table border=\"1\" class=\"dataframe\">\n",
       "  <thead>\n",
       "    <tr style=\"text-align: right;\">\n",
       "      <th></th>\n",
       "      <th>발화요인대분류</th>\n",
       "    </tr>\n",
       "  </thead>\n",
       "  <tbody>\n",
       "    <tr>\n",
       "      <th>부주의</th>\n",
       "      <td>20352</td>\n",
       "    </tr>\n",
       "    <tr>\n",
       "      <th>전기적 요인</th>\n",
       "      <td>10471</td>\n",
       "    </tr>\n",
       "    <tr>\n",
       "      <th>기계적 요인</th>\n",
       "      <td>4619</td>\n",
       "    </tr>\n",
       "    <tr>\n",
       "      <th>미상</th>\n",
       "      <td>4037</td>\n",
       "    </tr>\n",
       "    <tr>\n",
       "      <th>화학적 요인</th>\n",
       "      <td>604</td>\n",
       "    </tr>\n",
       "    <tr>\n",
       "      <th>교통사고</th>\n",
       "      <td>505</td>\n",
       "    </tr>\n",
       "    <tr>\n",
       "      <th>방화의심</th>\n",
       "      <td>470</td>\n",
       "    </tr>\n",
       "    <tr>\n",
       "      <th>방화</th>\n",
       "      <td>447</td>\n",
       "    </tr>\n",
       "    <tr>\n",
       "      <th>기타</th>\n",
       "      <td>372</td>\n",
       "    </tr>\n",
       "    <tr>\n",
       "      <th>자연적인 요인</th>\n",
       "      <td>250</td>\n",
       "    </tr>\n",
       "    <tr>\n",
       "      <th>가스누출(폭발)</th>\n",
       "      <td>211</td>\n",
       "    </tr>\n",
       "  </tbody>\n",
       "</table>\n",
       "</div>"
      ],
      "text/plain": [
       "          발화요인대분류\n",
       "부주의         20352\n",
       "전기적 요인      10471\n",
       "기계적 요인       4619\n",
       "미상           4037\n",
       "화학적 요인        604\n",
       "교통사고          505\n",
       "방화의심          470\n",
       "방화            447\n",
       "기타            372\n",
       "자연적인 요인       250\n",
       "가스누출(폭발)      211"
      ]
     },
     "execution_count": 62,
     "metadata": {},
     "output_type": "execute_result"
    }
   ],
   "source": [
    "source = pd.DataFrame( year2018['발화요인대분류'].value_counts() )\n",
    "source"
   ]
  },
  {
   "cell_type": "code",
   "execution_count": 63,
   "id": "031fe0eb",
   "metadata": {},
   "outputs": [
    {
     "data": {
      "text/plain": [
       "<function matplotlib.pyplot.show(close=None, block=None)>"
      ]
     },
     "execution_count": 63,
     "metadata": {},
     "output_type": "execute_result"
    },
    {
     "data": {
      "image/png": "[encoded data removed]",
      "text/plain": [
       "<Figure size 432x288 with 1 Axes>"
      ]
     },
     "metadata": {
      "needs_background": "light"
     },
     "output_type": "display_data"
    }
   ],
   "source": [
    "source.plot(kind='bar', color='skyblue')\n",
    "plt.ylabel('화재건수')                  \n",
    "plt.title('2018년 발화요인 대분류 화재건수')                                           \n",
    "plt.show"
   ]
  },
  {
   "cell_type": "markdown",
   "id": "4a8dac94",
   "metadata": {},
   "source": [
    "# 2018년 최초착화물대분류 => 종이 등 발화제, 전지 및 전자"
   ]
  },
  {
   "cell_type": "code",
   "execution_count": 64,
   "id": "f783307a",
   "metadata": {},
   "outputs": [
    {
     "data": {
      "text/html": [
       "<div>\n",
       "<style scoped>\n",
       "    .dataframe tbody tr th:only-of-type {\n",
       "        vertical-align: middle;\n",
       "    }\n",
       "\n",
       "    .dataframe tbody tr th {\n",
       "        vertical-align: top;\n",
       "    }\n",
       "\n",
       "    .dataframe thead th {\n",
       "        text-align: right;\n",
       "    }\n",
       "</style>\n",
       "<table border=\"1\" class=\"dataframe\">\n",
       "  <thead>\n",
       "    <tr style=\"text-align: right;\">\n",
       "      <th></th>\n",
       "      <th>최초착화물대분류</th>\n",
       "    </tr>\n",
       "  </thead>\n",
       "  <tbody>\n",
       "    <tr>\n",
       "      <th>종이,목재,건초등</th>\n",
       "      <td>9755</td>\n",
       "    </tr>\n",
       "    <tr>\n",
       "      <th>전기,전자</th>\n",
       "      <td>9332</td>\n",
       "    </tr>\n",
       "    <tr>\n",
       "      <th>합성수지</th>\n",
       "      <td>4940</td>\n",
       "    </tr>\n",
       "    <tr>\n",
       "      <th>쓰레기류</th>\n",
       "      <td>4430</td>\n",
       "    </tr>\n",
       "    <tr>\n",
       "      <th>식품</th>\n",
       "      <td>3320</td>\n",
       "    </tr>\n",
       "    <tr>\n",
       "      <th>미상</th>\n",
       "      <td>3219</td>\n",
       "    </tr>\n",
       "    <tr>\n",
       "      <th>기타</th>\n",
       "      <td>2087</td>\n",
       "    </tr>\n",
       "    <tr>\n",
       "      <th>자동차,철도차량,선박,항공기</th>\n",
       "      <td>2081</td>\n",
       "    </tr>\n",
       "    <tr>\n",
       "      <th>침구,직물류</th>\n",
       "      <td>1513</td>\n",
       "    </tr>\n",
       "    <tr>\n",
       "      <th>위험물등</th>\n",
       "      <td>939</td>\n",
       "    </tr>\n",
       "    <tr>\n",
       "      <th>가연성가스</th>\n",
       "      <td>354</td>\n",
       "    </tr>\n",
       "    <tr>\n",
       "      <th>가구</th>\n",
       "      <td>221</td>\n",
       "    </tr>\n",
       "    <tr>\n",
       "      <th>간판,차양막등</th>\n",
       "      <td>147</td>\n",
       "    </tr>\n",
       "  </tbody>\n",
       "</table>\n",
       "</div>"
      ],
      "text/plain": [
       "                 최초착화물대분류\n",
       "종이,목재,건초등            9755\n",
       "전기,전자                9332\n",
       "합성수지                 4940\n",
       "쓰레기류                 4430\n",
       "식품                   3320\n",
       "미상                   3219\n",
       "기타                   2087\n",
       "자동차,철도차량,선박,항공기      2081\n",
       "침구,직물류               1513\n",
       "위험물등                  939\n",
       "가연성가스                 354\n",
       "가구                    221\n",
       "간판,차양막등               147"
      ]
     },
     "execution_count": 64,
     "metadata": {},
     "output_type": "execute_result"
    }
   ],
   "source": [
    "fireFirst = pd.DataFrame( year2018['최초착화물대분류'].value_counts() )\n",
    "fireFirst"
   ]
  },
  {
   "cell_type": "code",
   "execution_count": 65,
   "id": "7f1a5aad",
   "metadata": {},
   "outputs": [
    {
     "data": {
      "text/plain": [
       "<function matplotlib.pyplot.show(close=None, block=None)>"
      ]
     },
     "execution_count": 65,
     "metadata": {},
     "output_type": "execute_result"
    },
    {
     "data": {
      "image/png": "[encoded data removed]",
      "text/plain": [
       "<Figure size 432x288 with 1 Axes>"
      ]
     },
     "metadata": {
      "needs_background": "light"
     },
     "output_type": "display_data"
    }
   ],
   "source": [
    "fireFirst.plot(kind='bar', color='skyblue')\n",
    "plt.ylabel('화재건수')                  \n",
    "plt.title('2018년 최초착화물 대분류별 화재건수')                                           \n",
    "plt.show"
   ]
  },
  {
   "cell_type": "markdown",
   "id": "fe22e88b",
   "metadata": {},
   "source": [
    "# 2018년 장소대분류 => 주거 및 산업시설"
   ]
  },
  {
   "cell_type": "code",
   "execution_count": 66,
   "id": "31452881",
   "metadata": {},
   "outputs": [
    {
     "data": {
      "text/html": [
       "<div>\n",
       "<style scoped>\n",
       "    .dataframe tbody tr th:only-of-type {\n",
       "        vertical-align: middle;\n",
       "    }\n",
       "\n",
       "    .dataframe tbody tr th {\n",
       "        vertical-align: top;\n",
       "    }\n",
       "\n",
       "    .dataframe thead th {\n",
       "        text-align: right;\n",
       "    }\n",
       "</style>\n",
       "<table border=\"1\" class=\"dataframe\">\n",
       "  <thead>\n",
       "    <tr style=\"text-align: right;\">\n",
       "      <th></th>\n",
       "      <th>장소대분류</th>\n",
       "    </tr>\n",
       "  </thead>\n",
       "  <tbody>\n",
       "    <tr>\n",
       "      <th>주거</th>\n",
       "      <td>12002</td>\n",
       "    </tr>\n",
       "    <tr>\n",
       "      <th>기타</th>\n",
       "      <td>6847</td>\n",
       "    </tr>\n",
       "    <tr>\n",
       "      <th>산업시설</th>\n",
       "      <td>5896</td>\n",
       "    </tr>\n",
       "    <tr>\n",
       "      <th>자동차,철도차량</th>\n",
       "      <td>5067</td>\n",
       "    </tr>\n",
       "    <tr>\n",
       "      <th>생활서비스</th>\n",
       "      <td>4361</td>\n",
       "    </tr>\n",
       "    <tr>\n",
       "      <th>판매,업무시설</th>\n",
       "      <td>2598</td>\n",
       "    </tr>\n",
       "    <tr>\n",
       "      <th>임야</th>\n",
       "      <td>2258</td>\n",
       "    </tr>\n",
       "    <tr>\n",
       "      <th>기타서비스</th>\n",
       "      <td>1692</td>\n",
       "    </tr>\n",
       "    <tr>\n",
       "      <th>의료,복지시설</th>\n",
       "      <td>417</td>\n",
       "    </tr>\n",
       "    <tr>\n",
       "      <th>집합시설</th>\n",
       "      <td>385</td>\n",
       "    </tr>\n",
       "    <tr>\n",
       "      <th>교육시설</th>\n",
       "      <td>340</td>\n",
       "    </tr>\n",
       "    <tr>\n",
       "      <th>운수자동차시설</th>\n",
       "      <td>319</td>\n",
       "    </tr>\n",
       "    <tr>\n",
       "      <th>선박,항공기</th>\n",
       "      <td>116</td>\n",
       "    </tr>\n",
       "    <tr>\n",
       "      <th>위험물,가스제조소</th>\n",
       "      <td>37</td>\n",
       "    </tr>\n",
       "    <tr>\n",
       "      <th>문화재시설</th>\n",
       "      <td>3</td>\n",
       "    </tr>\n",
       "  </tbody>\n",
       "</table>\n",
       "</div>"
      ],
      "text/plain": [
       "           장소대분류\n",
       "주거         12002\n",
       "기타          6847\n",
       "산업시설        5896\n",
       "자동차,철도차량    5067\n",
       "생활서비스       4361\n",
       "판매,업무시설     2598\n",
       "임야          2258\n",
       "기타서비스       1692\n",
       "의료,복지시설      417\n",
       "집합시설         385\n",
       "교육시설         340\n",
       "운수자동차시설      319\n",
       "선박,항공기       116\n",
       "위험물,가스제조소     37\n",
       "문화재시설          3"
      ]
     },
     "execution_count": 66,
     "metadata": {},
     "output_type": "execute_result"
    }
   ],
   "source": [
    "firePlace = pd.DataFrame( year2018['장소대분류'].value_counts() )\n",
    "firePlace"
   ]
  },
  {
   "cell_type": "code",
   "execution_count": 67,
   "id": "feb8a931",
   "metadata": {},
   "outputs": [
    {
     "data": {
      "text/plain": [
       "<function matplotlib.pyplot.show(close=None, block=None)>"
      ]
     },
     "execution_count": 67,
     "metadata": {},
     "output_type": "execute_result"
    },
    {
     "data": {
      "image/png": "[encoded data removed]",
      "text/plain": [
       "<Figure size 432x288 with 1 Axes>"
      ]
     },
     "metadata": {
      "needs_background": "light"
     },
     "output_type": "display_data"
    }
   ],
   "source": [
    "firePlace.plot(kind='bar', color='skyblue')\n",
    "plt.ylabel('화재건수')                  \n",
    "plt.title('2018년 장소별 화재건수')                                           \n",
    "plt.show"
   ]
  },
  {
   "cell_type": "markdown",
   "id": "92b9c194",
   "metadata": {},
   "source": [
    "###### 2018년 사망건수(명)"
   ]
  },
  {
   "cell_type": "code",
   "execution_count": 68,
   "id": "8378b434",
   "metadata": {},
   "outputs": [],
   "source": [
    "# # 사망건수 0인 경우 => 42060명\n",
    "# result = year2018.사망 != 0\n",
    "# year2018 = year2018[result]\n",
    "# DeathCount = pd.DataFrame( year2018['사망'].value_counts(), )\n",
    "# DeathCount"
   ]
  },
  {
   "cell_type": "markdown",
   "id": "c6ac8af5",
   "metadata": {},
   "source": [
    "###### 2018년 부상건수(명)"
   ]
  },
  {
   "cell_type": "code",
   "execution_count": 69,
   "id": "6a18b228",
   "metadata": {},
   "outputs": [],
   "source": [
    "# # # 부상이 0인 경우 => 40905명\n",
    "# result = year2018.부상 != 0\n",
    "# year2018 = year2018[result]\n",
    "# Injury = pd.DataFrame( year2018['부상'].value_counts() )\n",
    "# Injury"
   ]
  },
  {
   "cell_type": "markdown",
   "id": "19b71bcc",
   "metadata": {},
   "source": [
    "###### 2018년 인명피해 건수(명)"
   ]
  },
  {
   "cell_type": "code",
   "execution_count": 70,
   "id": "a4dba009",
   "metadata": {},
   "outputs": [],
   "source": [
    "# pd.DataFrame( year2018['인명피해(명)소계'].value_counts() )"
   ]
  },
  {
   "cell_type": "markdown",
   "id": "f1376111",
   "metadata": {},
   "source": [
    "###### 2018년 재산피해소계()"
   ]
  },
  {
   "cell_type": "code",
   "execution_count": 71,
   "id": "4f437343",
   "metadata": {},
   "outputs": [],
   "source": [
    "# property = pd.DataFrame( year2018['재산피해소계'].value_counts() )\n",
    "# property"
   ]
  },
  {
   "cell_type": "markdown",
   "id": "e79d64f1",
   "metadata": {},
   "source": [
    "# 사망, 부상, 인명피해\n",
    "## - 사망, 부상, 인명피해 <=> 발화요인, 발화열원, 발화유형"
   ]
  },
  {
   "cell_type": "code",
   "execution_count": 72,
   "id": "06cd38ad",
   "metadata": {},
   "outputs": [],
   "source": [
    "# pd.DataFrame( year2018.groupby(['발화열원대분류']).sum()['재산피해소계'].sort_values() )"
   ]
  },
  {
   "cell_type": "code",
   "execution_count": 73,
   "id": "6b081fbc",
   "metadata": {},
   "outputs": [
    {
     "data": {
      "text/html": [
       "<div>\n",
       "<style scoped>\n",
       "    .dataframe tbody tr th:only-of-type {\n",
       "        vertical-align: middle;\n",
       "    }\n",
       "\n",
       "    .dataframe tbody tr th {\n",
       "        vertical-align: top;\n",
       "    }\n",
       "\n",
       "    .dataframe thead th {\n",
       "        text-align: right;\n",
       "    }\n",
       "</style>\n",
       "<table border=\"1\" class=\"dataframe\">\n",
       "  <thead>\n",
       "    <tr style=\"text-align: right;\">\n",
       "      <th></th>\n",
       "      <th>사망</th>\n",
       "      <th>부상</th>\n",
       "      <th>인명피해(명)소계</th>\n",
       "      <th>재산피해소계</th>\n",
       "    </tr>\n",
       "    <tr>\n",
       "      <th>발화요인대분류</th>\n",
       "      <th></th>\n",
       "      <th></th>\n",
       "      <th></th>\n",
       "      <th></th>\n",
       "    </tr>\n",
       "  </thead>\n",
       "  <tbody>\n",
       "    <tr>\n",
       "      <th>부주의</th>\n",
       "      <td>70</td>\n",
       "      <td>798</td>\n",
       "      <td>868</td>\n",
       "      <td>124688688</td>\n",
       "    </tr>\n",
       "    <tr>\n",
       "      <th>전기적 요인</th>\n",
       "      <td>87</td>\n",
       "      <td>466</td>\n",
       "      <td>553</td>\n",
       "      <td>119960816</td>\n",
       "    </tr>\n",
       "    <tr>\n",
       "      <th>미상</th>\n",
       "      <td>102</td>\n",
       "      <td>384</td>\n",
       "      <td>486</td>\n",
       "      <td>233286755</td>\n",
       "    </tr>\n",
       "    <tr>\n",
       "      <th>방화</th>\n",
       "      <td>46</td>\n",
       "      <td>130</td>\n",
       "      <td>176</td>\n",
       "      <td>7510373</td>\n",
       "    </tr>\n",
       "    <tr>\n",
       "      <th>가스누출(폭발)</th>\n",
       "      <td>5</td>\n",
       "      <td>128</td>\n",
       "      <td>133</td>\n",
       "      <td>2811299</td>\n",
       "    </tr>\n",
       "    <tr>\n",
       "      <th>기계적 요인</th>\n",
       "      <td>7</td>\n",
       "      <td>114</td>\n",
       "      <td>121</td>\n",
       "      <td>38659233</td>\n",
       "    </tr>\n",
       "    <tr>\n",
       "      <th>방화의심</th>\n",
       "      <td>31</td>\n",
       "      <td>80</td>\n",
       "      <td>111</td>\n",
       "      <td>2438577</td>\n",
       "    </tr>\n",
       "    <tr>\n",
       "      <th>화학적 요인</th>\n",
       "      <td>7</td>\n",
       "      <td>66</td>\n",
       "      <td>73</td>\n",
       "      <td>18703578</td>\n",
       "    </tr>\n",
       "    <tr>\n",
       "      <th>기타</th>\n",
       "      <td>5</td>\n",
       "      <td>31</td>\n",
       "      <td>36</td>\n",
       "      <td>4723504</td>\n",
       "    </tr>\n",
       "    <tr>\n",
       "      <th>교통사고</th>\n",
       "      <td>9</td>\n",
       "      <td>23</td>\n",
       "      <td>32</td>\n",
       "      <td>5073201</td>\n",
       "    </tr>\n",
       "    <tr>\n",
       "      <th>자연적인 요인</th>\n",
       "      <td>0</td>\n",
       "      <td>5</td>\n",
       "      <td>5</td>\n",
       "      <td>1856365</td>\n",
       "    </tr>\n",
       "  </tbody>\n",
       "</table>\n",
       "</div>"
      ],
      "text/plain": [
       "           사망   부상  인명피해(명)소계     재산피해소계\n",
       "발화요인대분류                                 \n",
       "부주의        70  798        868  124688688\n",
       "전기적 요인     87  466        553  119960816\n",
       "미상        102  384        486  233286755\n",
       "방화         46  130        176    7510373\n",
       "가스누출(폭발)    5  128        133    2811299\n",
       "기계적 요인      7  114        121   38659233\n",
       "방화의심       31   80        111    2438577\n",
       "화학적 요인      7   66         73   18703578\n",
       "기타          5   31         36    4723504\n",
       "교통사고        9   23         32    5073201\n",
       "자연적인 요인     0    5          5    1856365"
      ]
     },
     "execution_count": 73,
     "metadata": {},
     "output_type": "execute_result"
    }
   ],
   "source": [
    "year2018.groupby(['발화요인대분류']).sum().sort_values('인명피해(명)소계', ascending=False)"
   ]
  },
  {
   "cell_type": "code",
   "execution_count": 74,
   "id": "3d84de49",
   "metadata": {},
   "outputs": [
    {
     "data": {
      "text/html": [
       "<div>\n",
       "<style scoped>\n",
       "    .dataframe tbody tr th:only-of-type {\n",
       "        vertical-align: middle;\n",
       "    }\n",
       "\n",
       "    .dataframe tbody tr th {\n",
       "        vertical-align: top;\n",
       "    }\n",
       "\n",
       "    .dataframe thead th {\n",
       "        text-align: right;\n",
       "    }\n",
       "</style>\n",
       "<table border=\"1\" class=\"dataframe\">\n",
       "  <thead>\n",
       "    <tr style=\"text-align: right;\">\n",
       "      <th></th>\n",
       "      <th>사망</th>\n",
       "      <th>부상</th>\n",
       "      <th>인명피해(명)소계</th>\n",
       "      <th>재산피해소계</th>\n",
       "    </tr>\n",
       "    <tr>\n",
       "      <th>발화열원대분류</th>\n",
       "      <th></th>\n",
       "      <th></th>\n",
       "      <th></th>\n",
       "      <th></th>\n",
       "    </tr>\n",
       "  </thead>\n",
       "  <tbody>\n",
       "    <tr>\n",
       "      <th>작동기기</th>\n",
       "      <td>118</td>\n",
       "      <td>829</td>\n",
       "      <td>947</td>\n",
       "      <td>162740670</td>\n",
       "    </tr>\n",
       "    <tr>\n",
       "      <th>미상</th>\n",
       "      <td>126</td>\n",
       "      <td>433</td>\n",
       "      <td>559</td>\n",
       "      <td>233655534</td>\n",
       "    </tr>\n",
       "    <tr>\n",
       "      <th>담뱃불, 라이터불</th>\n",
       "      <td>69</td>\n",
       "      <td>412</td>\n",
       "      <td>481</td>\n",
       "      <td>26356218</td>\n",
       "    </tr>\n",
       "    <tr>\n",
       "      <th>불꽃, 불티</th>\n",
       "      <td>41</td>\n",
       "      <td>338</td>\n",
       "      <td>379</td>\n",
       "      <td>91388265</td>\n",
       "    </tr>\n",
       "    <tr>\n",
       "      <th>마찰, 전도, 복사</th>\n",
       "      <td>8</td>\n",
       "      <td>145</td>\n",
       "      <td>153</td>\n",
       "      <td>26375812</td>\n",
       "    </tr>\n",
       "    <tr>\n",
       "      <th>기타</th>\n",
       "      <td>5</td>\n",
       "      <td>35</td>\n",
       "      <td>40</td>\n",
       "      <td>3860593</td>\n",
       "    </tr>\n",
       "    <tr>\n",
       "      <th>화학적 발화열</th>\n",
       "      <td>2</td>\n",
       "      <td>31</td>\n",
       "      <td>33</td>\n",
       "      <td>13559349</td>\n",
       "    </tr>\n",
       "    <tr>\n",
       "      <th>자연적 발화열</th>\n",
       "      <td>0</td>\n",
       "      <td>1</td>\n",
       "      <td>1</td>\n",
       "      <td>1741267</td>\n",
       "    </tr>\n",
       "    <tr>\n",
       "      <th>폭발물, 폭죽</th>\n",
       "      <td>0</td>\n",
       "      <td>1</td>\n",
       "      <td>1</td>\n",
       "      <td>34681</td>\n",
       "    </tr>\n",
       "  </tbody>\n",
       "</table>\n",
       "</div>"
      ],
      "text/plain": [
       "             사망   부상  인명피해(명)소계     재산피해소계\n",
       "발화열원대분류                                   \n",
       "작동기기        118  829        947  162740670\n",
       "미상          126  433        559  233655534\n",
       "담뱃불, 라이터불    69  412        481   26356218\n",
       "불꽃, 불티       41  338        379   91388265\n",
       "마찰, 전도, 복사    8  145        153   26375812\n",
       "기타            5   35         40    3860593\n",
       "화학적 발화열       2   31         33   13559349\n",
       "자연적 발화열       0    1          1    1741267\n",
       "폭발물, 폭죽       0    1          1      34681"
      ]
     },
     "execution_count": 74,
     "metadata": {},
     "output_type": "execute_result"
    }
   ],
   "source": [
    "year2018.groupby(['발화열원대분류']).sum().sort_values('인명피해(명)소계', ascending=False)"
   ]
  },
  {
   "cell_type": "code",
   "execution_count": 75,
   "id": "668b47e3",
   "metadata": {
    "scrolled": true
   },
   "outputs": [
    {
     "data": {
      "text/html": [
       "<div>\n",
       "<style scoped>\n",
       "    .dataframe tbody tr th:only-of-type {\n",
       "        vertical-align: middle;\n",
       "    }\n",
       "\n",
       "    .dataframe tbody tr th {\n",
       "        vertical-align: top;\n",
       "    }\n",
       "\n",
       "    .dataframe thead th {\n",
       "        text-align: right;\n",
       "    }\n",
       "</style>\n",
       "<table border=\"1\" class=\"dataframe\">\n",
       "  <thead>\n",
       "    <tr style=\"text-align: right;\">\n",
       "      <th></th>\n",
       "      <th>사망</th>\n",
       "      <th>부상</th>\n",
       "      <th>인명피해(명)소계</th>\n",
       "      <th>재산피해소계</th>\n",
       "    </tr>\n",
       "    <tr>\n",
       "      <th>화재유형</th>\n",
       "      <th></th>\n",
       "      <th></th>\n",
       "      <th></th>\n",
       "      <th></th>\n",
       "    </tr>\n",
       "  </thead>\n",
       "  <tbody>\n",
       "    <tr>\n",
       "      <th>건축,구조물</th>\n",
       "      <td>316</td>\n",
       "      <td>1915</td>\n",
       "      <td>2231</td>\n",
       "      <td>495040348</td>\n",
       "    </tr>\n",
       "    <tr>\n",
       "      <th>자동차,철도차량</th>\n",
       "      <td>28</td>\n",
       "      <td>132</td>\n",
       "      <td>160</td>\n",
       "      <td>32480219</td>\n",
       "    </tr>\n",
       "    <tr>\n",
       "      <th>기타(쓰레기 화재등)</th>\n",
       "      <td>13</td>\n",
       "      <td>81</td>\n",
       "      <td>94</td>\n",
       "      <td>6727101</td>\n",
       "    </tr>\n",
       "    <tr>\n",
       "      <th>임야</th>\n",
       "      <td>11</td>\n",
       "      <td>67</td>\n",
       "      <td>78</td>\n",
       "      <td>7763534</td>\n",
       "    </tr>\n",
       "    <tr>\n",
       "      <th>선박,항공기</th>\n",
       "      <td>0</td>\n",
       "      <td>20</td>\n",
       "      <td>20</td>\n",
       "      <td>9569820</td>\n",
       "    </tr>\n",
       "    <tr>\n",
       "      <th>위험물,가스제조소등</th>\n",
       "      <td>1</td>\n",
       "      <td>10</td>\n",
       "      <td>11</td>\n",
       "      <td>8131367</td>\n",
       "    </tr>\n",
       "  </tbody>\n",
       "</table>\n",
       "</div>"
      ],
      "text/plain": [
       "              사망    부상  인명피해(명)소계     재산피해소계\n",
       "화재유형                                        \n",
       "건축,구조물       316  1915       2231  495040348\n",
       "자동차,철도차량      28   132        160   32480219\n",
       "기타(쓰레기 화재등)   13    81         94    6727101\n",
       "임야            11    67         78    7763534\n",
       "선박,항공기         0    20         20    9569820\n",
       "위험물,가스제조소등     1    10         11    8131367"
      ]
     },
     "execution_count": 75,
     "metadata": {},
     "output_type": "execute_result"
    }
   ],
   "source": [
    "year2018.groupby(['화재유형']).sum().sort_values('인명피해(명)소계', ascending=False)"
   ]
  },
  {
   "cell_type": "markdown",
   "id": "5b1bd668",
   "metadata": {},
   "source": [
    "# 경기도 발화요인"
   ]
  },
  {
   "cell_type": "code",
   "execution_count": 76,
   "id": "3e4a1716",
   "metadata": {
    "scrolled": true
   },
   "outputs": [
    {
     "data": {
      "text/html": [
       "<div>\n",
       "<style scoped>\n",
       "    .dataframe tbody tr th:only-of-type {\n",
       "        vertical-align: middle;\n",
       "    }\n",
       "\n",
       "    .dataframe tbody tr th {\n",
       "        vertical-align: top;\n",
       "    }\n",
       "\n",
       "    .dataframe thead th {\n",
       "        text-align: right;\n",
       "    }\n",
       "</style>\n",
       "<table border=\"1\" class=\"dataframe\">\n",
       "  <thead>\n",
       "    <tr style=\"text-align: right;\">\n",
       "      <th></th>\n",
       "      <th>년</th>\n",
       "      <th>월</th>\n",
       "      <th>시간대</th>\n",
       "      <th>시도</th>\n",
       "      <th>화재유형</th>\n",
       "      <th>발화열원대분류</th>\n",
       "      <th>발화요인대분류</th>\n",
       "      <th>최초착화물대분류</th>\n",
       "      <th>장소대분류</th>\n",
       "      <th>사망</th>\n",
       "      <th>부상</th>\n",
       "      <th>인명피해(명)소계</th>\n",
       "      <th>재산피해소계</th>\n",
       "    </tr>\n",
       "  </thead>\n",
       "  <tbody>\n",
       "    <tr>\n",
       "      <th>132026</th>\n",
       "      <td>2018</td>\n",
       "      <td>1</td>\n",
       "      <td>심야</td>\n",
       "      <td>경기도</td>\n",
       "      <td>건축,구조물</td>\n",
       "      <td>작동기기</td>\n",
       "      <td>전기적 요인</td>\n",
       "      <td>전기,전자</td>\n",
       "      <td>주거</td>\n",
       "      <td>0</td>\n",
       "      <td>1</td>\n",
       "      <td>1</td>\n",
       "      <td>24099</td>\n",
       "    </tr>\n",
       "    <tr>\n",
       "      <th>132028</th>\n",
       "      <td>2018</td>\n",
       "      <td>1</td>\n",
       "      <td>심야</td>\n",
       "      <td>경기도</td>\n",
       "      <td>임야</td>\n",
       "      <td>담뱃불, 라이터불</td>\n",
       "      <td>부주의</td>\n",
       "      <td>종이,목재,건초등</td>\n",
       "      <td>임야</td>\n",
       "      <td>0</td>\n",
       "      <td>0</td>\n",
       "      <td>0</td>\n",
       "      <td>28</td>\n",
       "    </tr>\n",
       "    <tr>\n",
       "      <th>132033</th>\n",
       "      <td>2018</td>\n",
       "      <td>1</td>\n",
       "      <td>심야</td>\n",
       "      <td>경기도</td>\n",
       "      <td>기타(쓰레기 화재등)</td>\n",
       "      <td>작동기기</td>\n",
       "      <td>전기적 요인</td>\n",
       "      <td>전기,전자</td>\n",
       "      <td>기타</td>\n",
       "      <td>0</td>\n",
       "      <td>0</td>\n",
       "      <td>0</td>\n",
       "      <td>316</td>\n",
       "    </tr>\n",
       "    <tr>\n",
       "      <th>132049</th>\n",
       "      <td>2018</td>\n",
       "      <td>1</td>\n",
       "      <td>심야</td>\n",
       "      <td>경기도</td>\n",
       "      <td>건축,구조물</td>\n",
       "      <td>미상</td>\n",
       "      <td>방화의심</td>\n",
       "      <td>합성수지</td>\n",
       "      <td>주거</td>\n",
       "      <td>0</td>\n",
       "      <td>0</td>\n",
       "      <td>0</td>\n",
       "      <td>215</td>\n",
       "    </tr>\n",
       "    <tr>\n",
       "      <th>132052</th>\n",
       "      <td>2018</td>\n",
       "      <td>1</td>\n",
       "      <td>심야</td>\n",
       "      <td>경기도</td>\n",
       "      <td>건축,구조물</td>\n",
       "      <td>작동기기</td>\n",
       "      <td>기계적 요인</td>\n",
       "      <td>종이,목재,건초등</td>\n",
       "      <td>주거</td>\n",
       "      <td>0</td>\n",
       "      <td>0</td>\n",
       "      <td>0</td>\n",
       "      <td>4811</td>\n",
       "    </tr>\n",
       "    <tr>\n",
       "      <th>...</th>\n",
       "      <td>...</td>\n",
       "      <td>...</td>\n",
       "      <td>...</td>\n",
       "      <td>...</td>\n",
       "      <td>...</td>\n",
       "      <td>...</td>\n",
       "      <td>...</td>\n",
       "      <td>...</td>\n",
       "      <td>...</td>\n",
       "      <td>...</td>\n",
       "      <td>...</td>\n",
       "      <td>...</td>\n",
       "      <td>...</td>\n",
       "    </tr>\n",
       "    <tr>\n",
       "      <th>174316</th>\n",
       "      <td>2018</td>\n",
       "      <td>12</td>\n",
       "      <td>낮</td>\n",
       "      <td>경기도</td>\n",
       "      <td>기타(쓰레기 화재등)</td>\n",
       "      <td>담뱃불, 라이터불</td>\n",
       "      <td>부주의</td>\n",
       "      <td>종이,목재,건초등</td>\n",
       "      <td>기타</td>\n",
       "      <td>0</td>\n",
       "      <td>0</td>\n",
       "      <td>0</td>\n",
       "      <td>7658</td>\n",
       "    </tr>\n",
       "    <tr>\n",
       "      <th>174320</th>\n",
       "      <td>2018</td>\n",
       "      <td>12</td>\n",
       "      <td>저녁</td>\n",
       "      <td>경기도</td>\n",
       "      <td>건축,구조물</td>\n",
       "      <td>작동기기</td>\n",
       "      <td>기계적 요인</td>\n",
       "      <td>종이,목재,건초등</td>\n",
       "      <td>주거</td>\n",
       "      <td>0</td>\n",
       "      <td>0</td>\n",
       "      <td>0</td>\n",
       "      <td>345</td>\n",
       "    </tr>\n",
       "    <tr>\n",
       "      <th>174333</th>\n",
       "      <td>2018</td>\n",
       "      <td>12</td>\n",
       "      <td>저녁</td>\n",
       "      <td>경기도</td>\n",
       "      <td>건축,구조물</td>\n",
       "      <td>불꽃, 불티</td>\n",
       "      <td>부주의</td>\n",
       "      <td>쓰레기류</td>\n",
       "      <td>산업시설</td>\n",
       "      <td>0</td>\n",
       "      <td>0</td>\n",
       "      <td>0</td>\n",
       "      <td>15</td>\n",
       "    </tr>\n",
       "    <tr>\n",
       "      <th>174353</th>\n",
       "      <td>2018</td>\n",
       "      <td>12</td>\n",
       "      <td>저녁</td>\n",
       "      <td>경기도</td>\n",
       "      <td>건축,구조물</td>\n",
       "      <td>작동기기</td>\n",
       "      <td>전기적 요인</td>\n",
       "      <td>전기,전자</td>\n",
       "      <td>생활서비스</td>\n",
       "      <td>0</td>\n",
       "      <td>0</td>\n",
       "      <td>0</td>\n",
       "      <td>229</td>\n",
       "    </tr>\n",
       "    <tr>\n",
       "      <th>174361</th>\n",
       "      <td>2018</td>\n",
       "      <td>12</td>\n",
       "      <td>저녁</td>\n",
       "      <td>경기도</td>\n",
       "      <td>건축,구조물</td>\n",
       "      <td>작동기기</td>\n",
       "      <td>기계적 요인</td>\n",
       "      <td>합성수지</td>\n",
       "      <td>판매,업무시설</td>\n",
       "      <td>0</td>\n",
       "      <td>0</td>\n",
       "      <td>0</td>\n",
       "      <td>1635</td>\n",
       "    </tr>\n",
       "  </tbody>\n",
       "</table>\n",
       "<p>9632 rows × 13 columns</p>\n",
       "</div>"
      ],
      "text/plain": [
       "           년   월 시간대   시도         화재유형    발화열원대분류 발화요인대분류   최초착화물대분류    장소대분류  \\\n",
       "132026  2018   1  심야  경기도       건축,구조물       작동기기  전기적 요인      전기,전자       주거   \n",
       "132028  2018   1  심야  경기도           임야  담뱃불, 라이터불     부주의  종이,목재,건초등       임야   \n",
       "132033  2018   1  심야  경기도  기타(쓰레기 화재등)       작동기기  전기적 요인      전기,전자       기타   \n",
       "132049  2018   1  심야  경기도       건축,구조물         미상    방화의심       합성수지       주거   \n",
       "132052  2018   1  심야  경기도       건축,구조물       작동기기  기계적 요인  종이,목재,건초등       주거   \n",
       "...      ...  ..  ..  ...          ...        ...     ...        ...      ...   \n",
       "174316  2018  12   낮  경기도  기타(쓰레기 화재등)  담뱃불, 라이터불     부주의  종이,목재,건초등       기타   \n",
       "174320  2018  12  저녁  경기도       건축,구조물       작동기기  기계적 요인  종이,목재,건초등       주거   \n",
       "174333  2018  12  저녁  경기도       건축,구조물     불꽃, 불티     부주의       쓰레기류     산업시설   \n",
       "174353  2018  12  저녁  경기도       건축,구조물       작동기기  전기적 요인      전기,전자    생활서비스   \n",
       "174361  2018  12  저녁  경기도       건축,구조물       작동기기  기계적 요인       합성수지  판매,업무시설   \n",
       "\n",
       "        사망  부상  인명피해(명)소계  재산피해소계  \n",
       "132026   0   1          1   24099  \n",
       "132028   0   0          0      28  \n",
       "132033   0   0          0     316  \n",
       "132049   0   0          0     215  \n",
       "132052   0   0          0    4811  \n",
       "...     ..  ..        ...     ...  \n",
       "174316   0   0          0    7658  \n",
       "174320   0   0          0     345  \n",
       "174333   0   0          0      15  \n",
       "174353   0   0          0     229  \n",
       "174361   0   0          0    1635  \n",
       "\n",
       "[9632 rows x 13 columns]"
      ]
     },
     "execution_count": 76,
     "metadata": {},
     "output_type": "execute_result"
    }
   ],
   "source": [
    "Gyeonggi = year2018[year2018['시도']=='경기도']\n",
    "# Gyeonggi = pd.DataFrame( Gyeonggi.value_counts().sort_values(ascending=False) )\n",
    "Gyeonggi"
   ]
  },
  {
   "cell_type": "code",
   "execution_count": 77,
   "id": "6cc1df34",
   "metadata": {},
   "outputs": [],
   "source": [
    "# Gyeonggi.drop( ['년','시도'], axis=1, inplace=True )\n",
    "# G2 = Gyeonggi.set_index('발화요인대분류')"
   ]
  },
  {
   "cell_type": "code",
   "execution_count": 78,
   "id": "8b412ee2",
   "metadata": {
    "scrolled": true
   },
   "outputs": [],
   "source": [
    "# G2.sort_index(ascending=False)"
   ]
  },
  {
   "cell_type": "code",
   "execution_count": 79,
   "id": "8976fef6",
   "metadata": {},
   "outputs": [
    {
     "data": {
      "text/html": [
       "<div>\n",
       "<style scoped>\n",
       "    .dataframe tbody tr th:only-of-type {\n",
       "        vertical-align: middle;\n",
       "    }\n",
       "\n",
       "    .dataframe tbody tr th {\n",
       "        vertical-align: top;\n",
       "    }\n",
       "\n",
       "    .dataframe thead th {\n",
       "        text-align: right;\n",
       "    }\n",
       "</style>\n",
       "<table border=\"1\" class=\"dataframe\">\n",
       "  <thead>\n",
       "    <tr style=\"text-align: right;\">\n",
       "      <th></th>\n",
       "      <th>사망</th>\n",
       "      <th>부상</th>\n",
       "      <th>인명피해(명)소계</th>\n",
       "      <th>재산피해소계</th>\n",
       "    </tr>\n",
       "    <tr>\n",
       "      <th>발화요인대분류</th>\n",
       "      <th></th>\n",
       "      <th></th>\n",
       "      <th></th>\n",
       "      <th></th>\n",
       "    </tr>\n",
       "  </thead>\n",
       "  <tbody>\n",
       "    <tr>\n",
       "      <th>부주의</th>\n",
       "      <td>11</td>\n",
       "      <td>211</td>\n",
       "      <td>222</td>\n",
       "      <td>82570512</td>\n",
       "    </tr>\n",
       "    <tr>\n",
       "      <th>미상</th>\n",
       "      <td>14</td>\n",
       "      <td>94</td>\n",
       "      <td>108</td>\n",
       "      <td>96399574</td>\n",
       "    </tr>\n",
       "    <tr>\n",
       "      <th>전기적 요인</th>\n",
       "      <td>8</td>\n",
       "      <td>94</td>\n",
       "      <td>102</td>\n",
       "      <td>53216597</td>\n",
       "    </tr>\n",
       "    <tr>\n",
       "      <th>기계적 요인</th>\n",
       "      <td>2</td>\n",
       "      <td>57</td>\n",
       "      <td>59</td>\n",
       "      <td>18807187</td>\n",
       "    </tr>\n",
       "    <tr>\n",
       "      <th>방화</th>\n",
       "      <td>15</td>\n",
       "      <td>23</td>\n",
       "      <td>38</td>\n",
       "      <td>3406751</td>\n",
       "    </tr>\n",
       "    <tr>\n",
       "      <th>가스누출(폭발)</th>\n",
       "      <td>2</td>\n",
       "      <td>19</td>\n",
       "      <td>21</td>\n",
       "      <td>744377</td>\n",
       "    </tr>\n",
       "    <tr>\n",
       "      <th>화학적 요인</th>\n",
       "      <td>2</td>\n",
       "      <td>19</td>\n",
       "      <td>21</td>\n",
       "      <td>10054587</td>\n",
       "    </tr>\n",
       "    <tr>\n",
       "      <th>방화의심</th>\n",
       "      <td>6</td>\n",
       "      <td>11</td>\n",
       "      <td>17</td>\n",
       "      <td>859805</td>\n",
       "    </tr>\n",
       "    <tr>\n",
       "      <th>기타</th>\n",
       "      <td>0</td>\n",
       "      <td>7</td>\n",
       "      <td>7</td>\n",
       "      <td>2145377</td>\n",
       "    </tr>\n",
       "    <tr>\n",
       "      <th>교통사고</th>\n",
       "      <td>2</td>\n",
       "      <td>0</td>\n",
       "      <td>2</td>\n",
       "      <td>1190690</td>\n",
       "    </tr>\n",
       "    <tr>\n",
       "      <th>자연적인 요인</th>\n",
       "      <td>0</td>\n",
       "      <td>2</td>\n",
       "      <td>2</td>\n",
       "      <td>1085011</td>\n",
       "    </tr>\n",
       "  </tbody>\n",
       "</table>\n",
       "</div>"
      ],
      "text/plain": [
       "          사망   부상  인명피해(명)소계    재산피해소계\n",
       "발화요인대분류                               \n",
       "부주의       11  211        222  82570512\n",
       "미상        14   94        108  96399574\n",
       "전기적 요인     8   94        102  53216597\n",
       "기계적 요인     2   57         59  18807187\n",
       "방화        15   23         38   3406751\n",
       "가스누출(폭발)   2   19         21    744377\n",
       "화학적 요인     2   19         21  10054587\n",
       "방화의심       6   11         17    859805\n",
       "기타         0    7          7   2145377\n",
       "교통사고       2    0          2   1190690\n",
       "자연적인 요인    0    2          2   1085011"
      ]
     },
     "execution_count": 79,
     "metadata": {},
     "output_type": "execute_result"
    }
   ],
   "source": [
    "G2 = Gyeonggi.groupby(['발화요인대분류']).sum().sort_values('인명피해(명)소계', ascending=False)\n",
    "G2"
   ]
  },
  {
   "cell_type": "code",
   "execution_count": null,
   "id": "c76d1512",
   "metadata": {},
   "outputs": [],
   "source": []
  },
  {
   "cell_type": "code",
   "execution_count": null,
   "id": "0d6ae5a6",
   "metadata": {},
   "outputs": [],
   "source": []
  }
 ],
 "metadata": {
  "kernelspec": {
   "display_name": "Python 3 (ipykernel)",
   "language": "python",
   "name": "python3"
  },
  "language_info": {
   "codemirror_mode": {
    "name": "ipython",
    "version": 3
   },
   "file_extension": ".py",
   "mimetype": "text/x-python",
   "name": "python",
   "nbconvert_exporter": "python",
   "pygments_lexer": "ipython3",
   "version": "3.9.12"
  }
 },
 "nbformat": 4,
 "nbformat_minor": 5
}
