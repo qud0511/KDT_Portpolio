{
 "cells": [
  {
   "cell_type": "markdown",
   "id": "c87b5a96",
   "metadata": {},
   "source": [
    "# 2017년 화재 곽성화"
   ]
  },
  {
   "cell_type": "code",
   "execution_count": 77,
   "id": "65c81190",
   "metadata": {},
   "outputs": [
    {
     "data": {
      "text/plain": [
       "'../Data/fire_allyear.csv'"
      ]
     },
     "execution_count": 77,
     "metadata": {},
     "output_type": "execute_result"
    }
   ],
   "source": [
    "# 모듈 로딩 --------------------------------\n",
    "import pandas as pd\n",
    "\n",
    "# 파일 관련 변수들 ---------------------------\n",
    "DIR_PATH='../Data/'\n",
    "FILE_NAME=DIR_PATH+'fire_allyear.csv'\n",
    "\n",
    "FILE_NAME"
   ]
  },
  {
   "cell_type": "code",
   "execution_count": 78,
   "id": "f166d81f",
   "metadata": {
    "scrolled": false
   },
   "outputs": [
    {
     "data": {
      "text/html": [
       "<div>\n",
       "<style scoped>\n",
       "    .dataframe tbody tr th:only-of-type {\n",
       "        vertical-align: middle;\n",
       "    }\n",
       "\n",
       "    .dataframe tbody tr th {\n",
       "        vertical-align: top;\n",
       "    }\n",
       "\n",
       "    .dataframe thead th {\n",
       "        text-align: right;\n",
       "    }\n",
       "</style>\n",
       "<table border=\"1\" class=\"dataframe\">\n",
       "  <thead>\n",
       "    <tr style=\"text-align: right;\">\n",
       "      <th></th>\n",
       "      <th>년</th>\n",
       "      <th>월</th>\n",
       "      <th>시간대</th>\n",
       "      <th>시도</th>\n",
       "      <th>화재유형</th>\n",
       "      <th>발화열원대분류</th>\n",
       "      <th>발화요인대분류</th>\n",
       "      <th>최초착화물대분류</th>\n",
       "      <th>장소대분류</th>\n",
       "      <th>사망</th>\n",
       "      <th>부상</th>\n",
       "      <th>인명피해(명)소계</th>\n",
       "      <th>재산피해소계</th>\n",
       "    </tr>\n",
       "  </thead>\n",
       "  <tbody>\n",
       "    <tr>\n",
       "      <th>0</th>\n",
       "      <td>2015</td>\n",
       "      <td>1</td>\n",
       "      <td>심야</td>\n",
       "      <td>경상남도</td>\n",
       "      <td>건축,구조물</td>\n",
       "      <td>작동기기</td>\n",
       "      <td>전기적 요인</td>\n",
       "      <td>전기,전자</td>\n",
       "      <td>주거</td>\n",
       "      <td>0</td>\n",
       "      <td>0</td>\n",
       "      <td>0</td>\n",
       "      <td>2920</td>\n",
       "    </tr>\n",
       "    <tr>\n",
       "      <th>1</th>\n",
       "      <td>2015</td>\n",
       "      <td>1</td>\n",
       "      <td>심야</td>\n",
       "      <td>서울특별시</td>\n",
       "      <td>임야</td>\n",
       "      <td>담뱃불, 라이터불</td>\n",
       "      <td>부주의</td>\n",
       "      <td>기타</td>\n",
       "      <td>임야</td>\n",
       "      <td>0</td>\n",
       "      <td>0</td>\n",
       "      <td>0</td>\n",
       "      <td>0</td>\n",
       "    </tr>\n",
       "    <tr>\n",
       "      <th>2</th>\n",
       "      <td>2015</td>\n",
       "      <td>1</td>\n",
       "      <td>심야</td>\n",
       "      <td>서울특별시</td>\n",
       "      <td>자동차,철도차량</td>\n",
       "      <td>담뱃불, 라이터불</td>\n",
       "      <td>부주의</td>\n",
       "      <td>침구,직물류</td>\n",
       "      <td>자동차,철도차량</td>\n",
       "      <td>0</td>\n",
       "      <td>0</td>\n",
       "      <td>0</td>\n",
       "      <td>137</td>\n",
       "    </tr>\n",
       "  </tbody>\n",
       "</table>\n",
       "</div>"
      ],
      "text/plain": [
       "      년  월 시간대     시도      화재유형    발화열원대분류 발화요인대분류 최초착화물대분류     장소대분류  사망  부상  \\\n",
       "0  2015  1  심야   경상남도    건축,구조물       작동기기  전기적 요인    전기,전자        주거   0   0   \n",
       "1  2015  1  심야  서울특별시        임야  담뱃불, 라이터불     부주의       기타        임야   0   0   \n",
       "2  2015  1  심야  서울특별시  자동차,철도차량  담뱃불, 라이터불     부주의   침구,직물류  자동차,철도차량   0   0   \n",
       "\n",
       "   인명피해(명)소계  재산피해소계  \n",
       "0          0    2920  \n",
       "1          0       0  \n",
       "2          0     137  "
      ]
     },
     "execution_count": 78,
     "metadata": {},
     "output_type": "execute_result"
    }
   ],
   "source": [
    "# CSV File => DataFrame으로 객체 생성\n",
    "fireDF=pd.read_csv(FILE_NAME, encoding='cp949')\n",
    "\n",
    "fireDF.head(3)                     # 일부 데이터 확인"
   ]
  },
  {
   "cell_type": "code",
   "execution_count": 79,
   "id": "783ea081",
   "metadata": {},
   "outputs": [
    {
     "name": "stdout",
     "output_type": "stream",
     "text": [
      "<class 'pandas.core.frame.DataFrame'>\n",
      "RangeIndex: 214467 entries, 0 to 214466\n",
      "Data columns (total 13 columns):\n",
      " #   Column     Non-Null Count   Dtype \n",
      "---  ------     --------------   ----- \n",
      " 0   년          214467 non-null  int64 \n",
      " 1   월          214467 non-null  int64 \n",
      " 2   시간대        214467 non-null  object\n",
      " 3   시도         214467 non-null  object\n",
      " 4   화재유형       214467 non-null  object\n",
      " 5   발화열원대분류    214467 non-null  object\n",
      " 6   발화요인대분류    214467 non-null  object\n",
      " 7   최초착화물대분류   214467 non-null  object\n",
      " 8   장소대분류      214467 non-null  object\n",
      " 9   사망         214467 non-null  int64 \n",
      " 10  부상         214467 non-null  int64 \n",
      " 11  인명피해(명)소계  214467 non-null  int64 \n",
      " 12  재산피해소계     214467 non-null  int64 \n",
      "dtypes: int64(6), object(7)\n",
      "memory usage: 21.3+ MB\n"
     ]
    }
   ],
   "source": [
    "# DF 요약 정보 확인\n",
    "fireDF.info()"
   ]
  },
  {
   "cell_type": "code",
   "execution_count": 80,
   "id": "44294d60",
   "metadata": {},
   "outputs": [],
   "source": [
    "# 컬럼 이름 변경\n",
    "fireDF=fireDF.rename( columns={'발화열원대분류':'발화열원',\n",
    "                          '발화요인대분류':'발화요인', \n",
    "                          '최초착화물대분류':'최초착화물', \n",
    "                          '장소대분류':'장소', \n",
    "                          '인명피해(명)소계':'인명피해'}, inplace=False)"
   ]
  },
  {
   "cell_type": "code",
   "execution_count": 81,
   "id": "2c9a0b0e",
   "metadata": {
    "scrolled": false
   },
   "outputs": [
    {
     "name": "stdout",
     "output_type": "stream",
     "text": [
      "<class 'pandas.core.frame.DataFrame'>\n",
      "RangeIndex: 214467 entries, 0 to 214466\n",
      "Data columns (total 13 columns):\n",
      " #   Column  Non-Null Count   Dtype   \n",
      "---  ------  --------------   -----   \n",
      " 0   년       214467 non-null  category\n",
      " 1   월       214467 non-null  category\n",
      " 2   시간대     214467 non-null  category\n",
      " 3   시도      214467 non-null  category\n",
      " 4   화재유형    214467 non-null  category\n",
      " 5   발화열원    214467 non-null  category\n",
      " 6   발화요인    214467 non-null  category\n",
      " 7   최초착화물   214467 non-null  category\n",
      " 8   장소      214467 non-null  category\n",
      " 9   사망      214467 non-null  int64   \n",
      " 10  부상      214467 non-null  int64   \n",
      " 11  인명피해    214467 non-null  int64   \n",
      " 12  재산피해소계  214467 non-null  int64   \n",
      "dtypes: category(9), int64(4)\n",
      "memory usage: 8.4 MB\n"
     ]
    }
   ],
   "source": [
    "# 카테고리 자료형으로 변환 (용량/속도면에서 효율적)\n",
    "fireDF['년']=fireDF['년'].astype('category')\n",
    "fireDF['월']=fireDF['월'].astype('category')\n",
    "fireDF['시간대']=fireDF['시간대'].astype('category')\n",
    "fireDF['시도']=fireDF['시도'].astype('category')\n",
    "fireDF['화재유형']=fireDF['화재유형'].astype('category')\n",
    "fireDF['발화열원']=fireDF['발화열원'].astype('category')\n",
    "fireDF['발화요인']=fireDF['발화요인'].astype('category')\n",
    "fireDF['최초착화물']=fireDF['최초착화물'].astype('category')\n",
    "fireDF['장소']=fireDF['장소'].astype('category')\n",
    "\n",
    "fireDF.info()"
   ]
  },
  {
   "cell_type": "markdown",
   "id": "54cd52bf",
   "metadata": {},
   "source": [
    "### (1) 전체 자료 중 2017년 데이터만 추출하기 -----------------------"
   ]
  },
  {
   "cell_type": "code",
   "execution_count": 82,
   "id": "f2acda51",
   "metadata": {},
   "outputs": [
    {
     "data": {
      "text/plain": [
       "[2015, 2015, 2015, 2015, 2015, ..., 2019, 2019, 2019, 2019, 2019]\n",
       "Length: 214467\n",
       "Categories (5, int64): [2015, 2016, 2017, 2018, 2019]"
      ]
     },
     "execution_count": 82,
     "metadata": {},
     "output_type": "execute_result"
    }
   ],
   "source": [
    "# 자료 중 년도 data 확인\n",
    "fireDF['년'].values"
   ]
  },
  {
   "cell_type": "code",
   "execution_count": 83,
   "id": "cdd73da2",
   "metadata": {},
   "outputs": [
    {
     "data": {
      "text/plain": [
       "0         False\n",
       "1         False\n",
       "2         False\n",
       "3         False\n",
       "4         False\n",
       "          ...  \n",
       "214462    False\n",
       "214463    False\n",
       "214464    False\n",
       "214465    False\n",
       "214466    False\n",
       "Name: 년, Length: 214467, dtype: bool"
      ]
     },
     "execution_count": 83,
     "metadata": {},
     "output_type": "execute_result"
    }
   ],
   "source": [
    "# 년도가 2017년인 자료 선택\n",
    "fire_year17 = fireDF['년']==2017\n",
    "fire_year17"
   ]
  },
  {
   "cell_type": "code",
   "execution_count": 84,
   "id": "18e8ec9f",
   "metadata": {
    "scrolled": false
   },
   "outputs": [
    {
     "data": {
      "text/html": [
       "<div>\n",
       "<style scoped>\n",
       "    .dataframe tbody tr th:only-of-type {\n",
       "        vertical-align: middle;\n",
       "    }\n",
       "\n",
       "    .dataframe tbody tr th {\n",
       "        vertical-align: top;\n",
       "    }\n",
       "\n",
       "    .dataframe thead th {\n",
       "        text-align: right;\n",
       "    }\n",
       "</style>\n",
       "<table border=\"1\" class=\"dataframe\">\n",
       "  <thead>\n",
       "    <tr style=\"text-align: right;\">\n",
       "      <th></th>\n",
       "      <th>년</th>\n",
       "      <th>월</th>\n",
       "      <th>시간대</th>\n",
       "      <th>시도</th>\n",
       "      <th>화재유형</th>\n",
       "      <th>발화열원</th>\n",
       "      <th>발화요인</th>\n",
       "      <th>최초착화물</th>\n",
       "      <th>장소</th>\n",
       "      <th>사망</th>\n",
       "      <th>부상</th>\n",
       "      <th>인명피해</th>\n",
       "      <th>재산피해소계</th>\n",
       "    </tr>\n",
       "  </thead>\n",
       "  <tbody>\n",
       "    <tr>\n",
       "      <th>87848</th>\n",
       "      <td>2017</td>\n",
       "      <td>1</td>\n",
       "      <td>심야</td>\n",
       "      <td>서울특별시</td>\n",
       "      <td>건축,구조물</td>\n",
       "      <td>작동기기</td>\n",
       "      <td>전기적 요인</td>\n",
       "      <td>전기,전자</td>\n",
       "      <td>주거</td>\n",
       "      <td>0</td>\n",
       "      <td>0</td>\n",
       "      <td>0</td>\n",
       "      <td>13391</td>\n",
       "    </tr>\n",
       "    <tr>\n",
       "      <th>87849</th>\n",
       "      <td>2017</td>\n",
       "      <td>1</td>\n",
       "      <td>심야</td>\n",
       "      <td>경상북도</td>\n",
       "      <td>건축,구조물</td>\n",
       "      <td>작동기기</td>\n",
       "      <td>전기적 요인</td>\n",
       "      <td>합성수지</td>\n",
       "      <td>생활서비스</td>\n",
       "      <td>0</td>\n",
       "      <td>0</td>\n",
       "      <td>0</td>\n",
       "      <td>195</td>\n",
       "    </tr>\n",
       "    <tr>\n",
       "      <th>87850</th>\n",
       "      <td>2017</td>\n",
       "      <td>1</td>\n",
       "      <td>심야</td>\n",
       "      <td>경상남도</td>\n",
       "      <td>기타(쓰레기 화재등)</td>\n",
       "      <td>불꽃, 불티</td>\n",
       "      <td>부주의</td>\n",
       "      <td>종이,목재,건초등</td>\n",
       "      <td>기타</td>\n",
       "      <td>0</td>\n",
       "      <td>0</td>\n",
       "      <td>0</td>\n",
       "      <td>22</td>\n",
       "    </tr>\n",
       "  </tbody>\n",
       "</table>\n",
       "</div>"
      ],
      "text/plain": [
       "          년  월 시간대     시도         화재유형    발화열원    발화요인      최초착화물     장소  사망  \\\n",
       "87848  2017  1  심야  서울특별시       건축,구조물    작동기기  전기적 요인      전기,전자     주거   0   \n",
       "87849  2017  1  심야   경상북도       건축,구조물    작동기기  전기적 요인       합성수지  생활서비스   0   \n",
       "87850  2017  1  심야   경상남도  기타(쓰레기 화재등)  불꽃, 불티     부주의  종이,목재,건초등     기타   0   \n",
       "\n",
       "       부상  인명피해  재산피해소계  \n",
       "87848   0     0   13391  \n",
       "87849   0     0     195  \n",
       "87850   0     0      22  "
      ]
     },
     "execution_count": 84,
     "metadata": {},
     "output_type": "execute_result"
    }
   ],
   "source": [
    "# 선택한 2017년 자료로 전체 데이터에서 추출\n",
    "fire2017 = fireDF[fire_year17]\n",
    "fire2017.head(3)"
   ]
  },
  {
   "cell_type": "code",
   "execution_count": 85,
   "id": "0997f45c",
   "metadata": {
    "scrolled": false
   },
   "outputs": [
    {
     "data": {
      "text/plain": [
       "(44178, 13)"
      ]
     },
     "execution_count": 85,
     "metadata": {},
     "output_type": "execute_result"
    }
   ],
   "source": [
    "# 2017년 DF 속성 읽기\n",
    "fire2017.shape                  # 형태(행렬 갯수) 파악"
   ]
  },
  {
   "cell_type": "code",
   "execution_count": 86,
   "id": "db40c397",
   "metadata": {
    "scrolled": false
   },
   "outputs": [
    {
     "data": {
      "text/plain": [
       "Index(['년', '월', '시간대', '시도', '화재유형', '발화열원', '발화요인', '최초착화물', '장소', '사망',\n",
       "       '부상', '인명피해', '재산피해소계'],\n",
       "      dtype='object')"
      ]
     },
     "execution_count": 86,
     "metadata": {},
     "output_type": "execute_result"
    }
   ],
   "source": [
    "fire2017.columns                # 컬럼 정보 확인"
   ]
  },
  {
   "cell_type": "code",
   "execution_count": 87,
   "id": "06f2620a",
   "metadata": {},
   "outputs": [
    {
     "data": {
      "text/plain": [
       "Int64Index([ 87848,  87849,  87850,  87851,  87852,  87853,  87854,  87855,\n",
       "             87856,  87857,\n",
       "            ...\n",
       "            132016, 132017, 132018, 132019, 132020, 132021, 132022, 132023,\n",
       "            132024, 132025],\n",
       "           dtype='int64', length=44178)"
      ]
     },
     "execution_count": 87,
     "metadata": {},
     "output_type": "execute_result"
    }
   ],
   "source": [
    "fire2017.index                  # 행 인덱스 확인"
   ]
  },
  {
   "cell_type": "code",
   "execution_count": 88,
   "id": "d3c9ce80",
   "metadata": {},
   "outputs": [
    {
     "name": "stdout",
     "output_type": "stream",
     "text": [
      "자료 갯수 : 44178\n"
     ]
    }
   ],
   "source": [
    "print(f'자료 갯수 : {fire2017.index[-1] - fire2017.index[0] + 1}')"
   ]
  },
  {
   "cell_type": "code",
   "execution_count": 89,
   "id": "af6b1569",
   "metadata": {
    "scrolled": false
   },
   "outputs": [
    {
     "name": "stdout",
     "output_type": "stream",
     "text": [
      "<class 'pandas.core.frame.DataFrame'>\n",
      "Int64Index: 44178 entries, 87848 to 132025\n",
      "Data columns (total 13 columns):\n",
      " #   Column  Non-Null Count  Dtype   \n",
      "---  ------  --------------  -----   \n",
      " 0   년       44178 non-null  category\n",
      " 1   월       44178 non-null  category\n",
      " 2   시간대     44178 non-null  category\n",
      " 3   시도      44178 non-null  category\n",
      " 4   화재유형    44178 non-null  category\n",
      " 5   발화열원    44178 non-null  category\n",
      " 6   발화요인    44178 non-null  category\n",
      " 7   최초착화물   44178 non-null  category\n",
      " 8   장소      44178 non-null  category\n",
      " 9   사망      44178 non-null  int64   \n",
      " 10  부상      44178 non-null  int64   \n",
      " 11  인명피해    44178 non-null  int64   \n",
      " 12  재산피해소계  44178 non-null  int64   \n",
      "dtypes: category(9), int64(4)\n",
      "memory usage: 2.1 MB\n"
     ]
    }
   ],
   "source": [
    "fire2017.info()                 # 요약 정보 확인"
   ]
  },
  {
   "cell_type": "markdown",
   "id": "21327330",
   "metadata": {},
   "source": [
    "### (2) 2017년 항목별 화재 분석 ------------------------------- "
   ]
  },
  {
   "cell_type": "code",
   "execution_count": 90,
   "id": "0446d7e6",
   "metadata": {
    "scrolled": false
   },
   "outputs": [
    {
     "name": "stdout",
     "output_type": "stream",
     "text": [
      "Defaulting to user installation because normal site-packages is not writeable\n",
      "Requirement already satisfied: matplotlib in c:\\programdata\\anaconda3\\lib\\site-packages (3.5.1)\n",
      "Requirement already satisfied: python-dateutil>=2.7 in c:\\programdata\\anaconda3\\lib\\site-packages (from matplotlib) (2.8.2)\n",
      "Requirement already satisfied: fonttools>=4.22.0 in c:\\programdata\\anaconda3\\lib\\site-packages (from matplotlib) (4.25.0)\n",
      "Requirement already satisfied: pillow>=6.2.0 in c:\\programdata\\anaconda3\\lib\\site-packages (from matplotlib) (9.0.1)\n",
      "Requirement already satisfied: packaging>=20.0 in c:\\programdata\\anaconda3\\lib\\site-packages (from matplotlib) (21.3)\n",
      "Requirement already satisfied: numpy>=1.17 in c:\\programdata\\anaconda3\\lib\\site-packages (from matplotlib) (1.21.5)\n",
      "Requirement already satisfied: pyparsing>=2.2.1 in c:\\programdata\\anaconda3\\lib\\site-packages (from matplotlib) (3.0.4)\n",
      "Requirement already satisfied: kiwisolver>=1.0.1 in c:\\programdata\\anaconda3\\lib\\site-packages (from matplotlib) (1.3.2)\n",
      "Requirement already satisfied: cycler>=0.10 in c:\\programdata\\anaconda3\\lib\\site-packages (from matplotlib) (0.11.0)\n",
      "Requirement already satisfied: six>=1.5 in c:\\programdata\\anaconda3\\lib\\site-packages (from python-dateutil>=2.7->matplotlib) (1.16.0)\n"
     ]
    }
   ],
   "source": [
    "# 데이터 시각화를 위해 패키지 설치 ------------------------\n",
    "!pip install matplotlib"
   ]
  },
  {
   "cell_type": "code",
   "execution_count": 91,
   "id": "de000de7",
   "metadata": {},
   "outputs": [],
   "source": [
    "# 모듈 로딩 -----------------------------\n",
    "import matplotlib.pyplot as plt"
   ]
  },
  {
   "cell_type": "code",
   "execution_count": 92,
   "id": "0a462f16",
   "metadata": {},
   "outputs": [],
   "source": [
    "# Matplotlib 한글 Font 설정 ---------------\n",
    "from matplotlib import font_manager as fm, rc\n",
    "\n",
    "# 한글 폰트 설정\n",
    "font_path='../Fonts/malgun.ttf'\n",
    "font_name=fm.FontProperties(fname=font_path).get_name()\n",
    "rc('font',family=font_name)"
   ]
  },
  {
   "cell_type": "code",
   "execution_count": 93,
   "id": "f5e43002",
   "metadata": {
    "scrolled": false
   },
   "outputs": [
    {
     "data": {
      "text/plain": [
       "시도\n",
       "경기도      9799\n",
       "서울특별시    5978\n",
       "경상남도     4117\n",
       "Name: 년, dtype: int64"
      ]
     },
     "execution_count": 93,
     "metadata": {},
     "output_type": "execute_result"
    }
   ],
   "source": [
    "# 시도별 화재발생 비교\n",
    "f2017__1=fire2017.groupby('시도').count()['년'].sort_values(ascending=False)\n",
    "f2017__1.head(3)"
   ]
  },
  {
   "cell_type": "code",
   "execution_count": 94,
   "id": "af2afe6d",
   "metadata": {
    "scrolled": true
   },
   "outputs": [
    {
     "data": {
      "image/png": "[encoded data removed]",
      "text/plain": [
       "<Figure size 432x288 with 1 Axes>"
      ]
     },
     "metadata": {
      "needs_background": "light"
     },
     "output_type": "display_data"
    }
   ],
   "source": [
    "# 시도별 화재발생 비교 그래프\n",
    "x = f2017__1.index\n",
    "y = f2017__1.values\n",
    "\n",
    "plt.barh(x,y)\n",
    "plt.title('시도별 화재 발생건수')\n",
    "plt.show()"
   ]
  },
  {
   "cell_type": "code",
   "execution_count": 95,
   "id": "4b9ff49a",
   "metadata": {},
   "outputs": [],
   "source": [
    "# 월 컬럼 values 변경\n",
    "fire2017=fire2017.replace({'월':{1:'1월',2:'2월',3:'3월',4:'4월',5:'5월',6:'6월',7:'7월',8:'8월',9:'9월',10:'10월',11:'11월',12:'12월'}})"
   ]
  },
  {
   "cell_type": "code",
   "execution_count": 96,
   "id": "7c834fb0",
   "metadata": {
    "scrolled": true
   },
   "outputs": [
    {
     "data": {
      "text/plain": [
       "월\n",
       "3월     5385\n",
       "5월     4229\n",
       "12월    4086\n",
       "Name: 년, dtype: int64"
      ]
     },
     "execution_count": 96,
     "metadata": {},
     "output_type": "execute_result"
    }
   ],
   "source": [
    "# 월별 화재발생 비교\n",
    "f2017__2=fire2017.groupby('월').count()['년'].sort_values(ascending=False)\n",
    "f2017__2.head(3)"
   ]
  },
  {
   "cell_type": "code",
   "execution_count": 97,
   "id": "73d324fc",
   "metadata": {
    "scrolled": true
   },
   "outputs": [],
   "source": [
    "f2017__22=fire2017.groupby('월').count()['년']"
   ]
  },
  {
   "cell_type": "code",
   "execution_count": 98,
   "id": "dc57fd8a",
   "metadata": {},
   "outputs": [
    {
     "data": {
      "image/png": "[encoded data removed]",
      "text/plain": [
       "<Figure size 432x288 with 1 Axes>"
      ]
     },
     "metadata": {
      "needs_background": "light"
     },
     "output_type": "display_data"
    }
   ],
   "source": [
    "# 월별 화재발생 비교 그래프\n",
    "x = f2017__22.index\n",
    "y = f2017__22.values\n",
    "\n",
    "plt.bar(x,y)\n",
    "plt.title('월별 화재 발생건수')\n",
    "plt.show()"
   ]
  },
  {
   "cell_type": "code",
   "execution_count": 99,
   "id": "2674f18e",
   "metadata": {
    "scrolled": true
   },
   "outputs": [
    {
     "data": {
      "text/plain": [
       "시간대\n",
       "낮     16926\n",
       "저녁    10918\n",
       "아침    10396\n",
       "심야     5938\n",
       "Name: 년, dtype: int64"
      ]
     },
     "execution_count": 99,
     "metadata": {},
     "output_type": "execute_result"
    }
   ],
   "source": [
    "# 시간대별 화재발생 비교\n",
    "f2017__3=fire2017.groupby('시간대').count()['년'].sort_values(ascending=False)\n",
    "f2017__3"
   ]
  },
  {
   "cell_type": "code",
   "execution_count": 100,
   "id": "e62075f2",
   "metadata": {},
   "outputs": [
    {
     "data": {
      "image/png": "[encoded data removed]",
      "text/plain": [
       "<Figure size 432x288 with 1 Axes>"
      ]
     },
     "metadata": {},
     "output_type": "display_data"
    }
   ],
   "source": [
    "# 시간대별 화재발생 비교 그래프\n",
    "x = f2017__3.index\n",
    "y = f2017__3.values\n",
    "\n",
    "plt.pie(y, labels=x, autopct='%.1f%%')\n",
    "plt.title('시간대별 화재 발생비율')\n",
    "plt.show()"
   ]
  },
  {
   "cell_type": "code",
   "execution_count": 101,
   "id": "09339724",
   "metadata": {},
   "outputs": [
    {
     "data": {
      "text/plain": [
       "화재유형\n",
       "건축,구조물         27714\n",
       "기타(쓰레기 화재등)     8115\n",
       "자동차,철도차량        4971\n",
       "임야              3267\n",
       "선박,항공기            80\n",
       "위험물,가스제조소등        31\n",
       "Name: 년, dtype: int64"
      ]
     },
     "execution_count": 101,
     "metadata": {},
     "output_type": "execute_result"
    }
   ],
   "source": [
    "# 화재유형별 화재발생 비교\n",
    "f2017__4=fire2017.groupby('화재유형').count()['년'].sort_values(ascending=False)\n",
    "f2017__4"
   ]
  },
  {
   "cell_type": "code",
   "execution_count": 102,
   "id": "4ea530d6",
   "metadata": {},
   "outputs": [
    {
     "data": {
      "image/png": "[encoded data removed]",
      "text/plain": [
       "<Figure size 432x288 with 1 Axes>"
      ]
     },
     "metadata": {
      "needs_background": "light"
     },
     "output_type": "display_data"
    }
   ],
   "source": [
    "# 화재유형별 화재발생 비교 그래프\n",
    "x = f2017__4.index\n",
    "y = f2017__4.values\n",
    "\n",
    "plt.barh(x,y)\n",
    "plt.title('화재유형별 화재 발생건수')\n",
    "plt.show()"
   ]
  },
  {
   "cell_type": "code",
   "execution_count": 103,
   "id": "babfe0ef",
   "metadata": {},
   "outputs": [
    {
     "data": {
      "text/plain": [
       "발화열원\n",
       "작동기기         15988\n",
       "담뱃불, 라이터불     9462\n",
       "불꽃, 불티        9126\n",
       "Name: 년, dtype: int64"
      ]
     },
     "execution_count": 103,
     "metadata": {},
     "output_type": "execute_result"
    }
   ],
   "source": [
    "# 발화열원별 화재발생 비교\n",
    "f2017__5=fire2017.groupby('발화열원').count()['년'].sort_values(ascending=False)\n",
    "f2017__5.head(3)"
   ]
  },
  {
   "cell_type": "code",
   "execution_count": 104,
   "id": "0419e31c",
   "metadata": {},
   "outputs": [
    {
     "data": {
      "image/png": "[encoded data removed]",
      "text/plain": [
       "<Figure size 432x288 with 1 Axes>"
      ]
     },
     "metadata": {
      "needs_background": "light"
     },
     "output_type": "display_data"
    }
   ],
   "source": [
    "# 발화열원별 화재발생 비교 그래프\n",
    "x = f2017__5.index\n",
    "y = f2017__5.values\n",
    "\n",
    "plt.barh(x,y)\n",
    "plt.title('발화열원별 화재 발생건수')\n",
    "plt.show()"
   ]
  },
  {
   "cell_type": "code",
   "execution_count": 105,
   "id": "715e8944",
   "metadata": {},
   "outputs": [
    {
     "data": {
      "text/plain": [
       "발화요인\n",
       "부주의       23429\n",
       "전기적 요인     9264\n",
       "기계적 요인     4489\n",
       "Name: 년, dtype: int64"
      ]
     },
     "execution_count": 105,
     "metadata": {},
     "output_type": "execute_result"
    }
   ],
   "source": [
    "# 발화요인별 화재발생 비교\n",
    "f2017__6=fire2017.groupby('발화요인').count()['년'].sort_values(ascending=False)\n",
    "f2017__6.head(3)"
   ]
  },
  {
   "cell_type": "code",
   "execution_count": 106,
   "id": "b44101a5",
   "metadata": {},
   "outputs": [
    {
     "data": {
      "image/png": "[encoded data removed]",
      "text/plain": [
       "<Figure size 432x288 with 1 Axes>"
      ]
     },
     "metadata": {
      "needs_background": "light"
     },
     "output_type": "display_data"
    }
   ],
   "source": [
    "# 발화요인별 화재발생 비교 그래프\n",
    "x = f2017__6.index\n",
    "y = f2017__6.values\n",
    "\n",
    "plt.barh(x,y)\n",
    "plt.title('발화요인별 화재 발생건수')\n",
    "plt.show()"
   ]
  },
  {
   "cell_type": "code",
   "execution_count": 107,
   "id": "f8ae57e9",
   "metadata": {},
   "outputs": [
    {
     "data": {
      "text/plain": [
       "최초착화물\n",
       "종이,목재,건초등    12282\n",
       "전기,전자         8112\n",
       "쓰레기류          5141\n",
       "Name: 년, dtype: int64"
      ]
     },
     "execution_count": 107,
     "metadata": {},
     "output_type": "execute_result"
    }
   ],
   "source": [
    "# 최초착화물별 화재발생 비교\n",
    "f2017__7=fire2017.groupby('최초착화물').count()['년'].sort_values(ascending=False)\n",
    "f2017__7.head(3)"
   ]
  },
  {
   "cell_type": "code",
   "execution_count": 108,
   "id": "ccf1f6c4",
   "metadata": {},
   "outputs": [
    {
     "data": {
      "image/png": "[encoded data removed]",
      "text/plain": [
       "<Figure size 432x288 with 1 Axes>"
      ]
     },
     "metadata": {
      "needs_background": "light"
     },
     "output_type": "display_data"
    }
   ],
   "source": [
    "# 최초착화물별 화재발생 비교 그래프\n",
    "x = f2017__7.index\n",
    "y = f2017__7.values\n",
    "\n",
    "plt.barh(x,y)\n",
    "plt.title('최초착화물별 화재 발생건수')\n",
    "plt.show()"
   ]
  },
  {
   "cell_type": "code",
   "execution_count": 109,
   "id": "e5246420",
   "metadata": {},
   "outputs": [
    {
     "data": {
      "text/plain": [
       "장소\n",
       "주거      11765\n",
       "기타       8115\n",
       "산업시설     6151\n",
       "Name: 년, dtype: int64"
      ]
     },
     "execution_count": 109,
     "metadata": {},
     "output_type": "execute_result"
    }
   ],
   "source": [
    "# 장소별 화재발생 비교\n",
    "f2017__8=fire2017.groupby('장소').count()['년'].sort_values(ascending=False)\n",
    "f2017__8.head(3)"
   ]
  },
  {
   "cell_type": "code",
   "execution_count": 110,
   "id": "dbe2b04d",
   "metadata": {},
   "outputs": [
    {
     "data": {
      "image/png": "[encoded data removed]",
      "text/plain": [
       "<Figure size 432x288 with 1 Axes>"
      ]
     },
     "metadata": {
      "needs_background": "light"
     },
     "output_type": "display_data"
    }
   ],
   "source": [
    "# 장소별 화재발생 비교 그래프\n",
    "x = f2017__8.index\n",
    "y = f2017__8.values\n",
    "\n",
    "plt.barh(x,y)\n",
    "plt.title('장소별 화재 발생건수')\n",
    "plt.show()"
   ]
  },
  {
   "cell_type": "markdown",
   "id": "423a1008",
   "metadata": {},
   "source": [
    "#### ※ 2017년 화재발생 현황"
   ]
  },
  {
   "cell_type": "code",
   "execution_count": 111,
   "id": "7e9ebdda",
   "metadata": {},
   "outputs": [
    {
     "name": "stdout",
     "output_type": "stream",
     "text": [
      "Index(['월', '시간대', '시도', '화재유형', '발화열원', '발화요인', '최초착화물', '장소'], dtype='object')\n"
     ]
    },
    {
     "data": {
      "text/html": [
       "<div>\n",
       "<style scoped>\n",
       "    .dataframe tbody tr th:only-of-type {\n",
       "        vertical-align: middle;\n",
       "    }\n",
       "\n",
       "    .dataframe tbody tr th {\n",
       "        vertical-align: top;\n",
       "    }\n",
       "\n",
       "    .dataframe thead th {\n",
       "        text-align: right;\n",
       "    }\n",
       "</style>\n",
       "<table border=\"1\" class=\"dataframe\">\n",
       "  <thead>\n",
       "    <tr style=\"text-align: right;\">\n",
       "      <th></th>\n",
       "      <th>3월</th>\n",
       "      <th>낮</th>\n",
       "      <th>경기도</th>\n",
       "      <th>건축,구조물</th>\n",
       "      <th>작동기기</th>\n",
       "      <th>부주의</th>\n",
       "      <th>종이,목재,건초등</th>\n",
       "      <th>주거</th>\n",
       "    </tr>\n",
       "  </thead>\n",
       "  <tbody>\n",
       "    <tr>\n",
       "      <th>년</th>\n",
       "      <td>5385</td>\n",
       "      <td>16926</td>\n",
       "      <td>9799</td>\n",
       "      <td>27714</td>\n",
       "      <td>15988</td>\n",
       "      <td>23429</td>\n",
       "      <td>12282</td>\n",
       "      <td>11765</td>\n",
       "    </tr>\n",
       "  </tbody>\n",
       "</table>\n",
       "</div>"
      ],
      "text/plain": [
       "     3월      낮   경기도  건축,구조물   작동기기    부주의  종이,목재,건초등     주거\n",
       "년  5385  16926  9799   27714  15988  23429      12282  11765"
      ]
     },
     "execution_count": 111,
     "metadata": {},
     "output_type": "execute_result"
    }
   ],
   "source": [
    "# DF 객체를 행방향으로 연결\n",
    "df=pd.concat([f2017__2.head(1), f2017__3.head(1), f2017__1.head(1), f2017__4.head(1), f2017__5.head(1),\n",
    "             f2017__6.head(1), f2017__7.head(1), f2017__8.head(1)])\n",
    "\n",
    "print(fire2017.columns[1:9])\n",
    "\n",
    "# 시각화를 위해 DF 형태로 설정 후 행-열 전환\n",
    "pd.DataFrame(df).T"
   ]
  },
  {
   "cell_type": "code",
   "execution_count": 112,
   "id": "f723c766",
   "metadata": {},
   "outputs": [
    {
     "data": {
      "text/plain": [
       "월\n",
       "3월    5385\n",
       "Name: 년, dtype: int64"
      ]
     },
     "execution_count": 112,
     "metadata": {},
     "output_type": "execute_result"
    }
   ],
   "source": [
    "f2017__2.head(1)"
   ]
  },
  {
   "cell_type": "code",
   "execution_count": 113,
   "id": "b3bdd720",
   "metadata": {},
   "outputs": [
    {
     "data": {
      "text/html": [
       "<div>\n",
       "<style scoped>\n",
       "    .dataframe tbody tr th:only-of-type {\n",
       "        vertical-align: middle;\n",
       "    }\n",
       "\n",
       "    .dataframe tbody tr th {\n",
       "        vertical-align: top;\n",
       "    }\n",
       "\n",
       "    .dataframe thead th {\n",
       "        text-align: right;\n",
       "    }\n",
       "</style>\n",
       "<table border=\"1\" class=\"dataframe\">\n",
       "  <thead>\n",
       "    <tr style=\"text-align: right;\">\n",
       "      <th></th>\n",
       "      <th>사망</th>\n",
       "      <th>부상</th>\n",
       "      <th>인명피해</th>\n",
       "    </tr>\n",
       "  </thead>\n",
       "  <tbody>\n",
       "    <tr>\n",
       "      <th>max</th>\n",
       "      <td>29.000000</td>\n",
       "      <td>40.000000</td>\n",
       "      <td>69.000000</td>\n",
       "    </tr>\n",
       "    <tr>\n",
       "      <th>mean</th>\n",
       "      <td>0.007809</td>\n",
       "      <td>0.041921</td>\n",
       "      <td>0.049731</td>\n",
       "    </tr>\n",
       "  </tbody>\n",
       "</table>\n",
       "</div>"
      ],
      "text/plain": [
       "             사망         부상       인명피해\n",
       "max   29.000000  40.000000  69.000000\n",
       "mean   0.007809   0.041921   0.049731"
      ]
     },
     "execution_count": 113,
     "metadata": {},
     "output_type": "execute_result"
    }
   ],
   "source": [
    "# 수치형 자료의 기술통계 정보 보기\n",
    "fire2017.describe().loc[['max','mean']][['사망','부상','인명피해']]"
   ]
  },
  {
   "cell_type": "markdown",
   "id": "7b88bc0d",
   "metadata": {},
   "source": [
    "### (3) 2017년 시도별 피해현황 비교 -----------------------"
   ]
  },
  {
   "cell_type": "code",
   "execution_count": 114,
   "id": "85575cf1",
   "metadata": {
    "scrolled": true
   },
   "outputs": [
    {
     "data": {
      "text/html": [
       "<div>\n",
       "<style scoped>\n",
       "    .dataframe tbody tr th:only-of-type {\n",
       "        vertical-align: middle;\n",
       "    }\n",
       "\n",
       "    .dataframe tbody tr th {\n",
       "        vertical-align: top;\n",
       "    }\n",
       "\n",
       "    .dataframe thead th {\n",
       "        text-align: right;\n",
       "    }\n",
       "</style>\n",
       "<table border=\"1\" class=\"dataframe\">\n",
       "  <thead>\n",
       "    <tr style=\"text-align: right;\">\n",
       "      <th></th>\n",
       "      <th>사망</th>\n",
       "      <th>부상</th>\n",
       "      <th>인명피해</th>\n",
       "      <th>재산피해소계</th>\n",
       "    </tr>\n",
       "    <tr>\n",
       "      <th>시도</th>\n",
       "      <th></th>\n",
       "      <th></th>\n",
       "      <th></th>\n",
       "      <th></th>\n",
       "    </tr>\n",
       "  </thead>\n",
       "  <tbody>\n",
       "    <tr>\n",
       "      <th>강원도</th>\n",
       "      <td>24</td>\n",
       "      <td>123</td>\n",
       "      <td>147</td>\n",
       "      <td>30228041</td>\n",
       "    </tr>\n",
       "    <tr>\n",
       "      <th>경기도</th>\n",
       "      <td>78</td>\n",
       "      <td>573</td>\n",
       "      <td>651</td>\n",
       "      <td>250321443</td>\n",
       "    </tr>\n",
       "    <tr>\n",
       "      <th>경상남도</th>\n",
       "      <td>24</td>\n",
       "      <td>86</td>\n",
       "      <td>110</td>\n",
       "      <td>30779725</td>\n",
       "    </tr>\n",
       "    <tr>\n",
       "      <th>경상북도</th>\n",
       "      <td>27</td>\n",
       "      <td>127</td>\n",
       "      <td>154</td>\n",
       "      <td>25092858</td>\n",
       "    </tr>\n",
       "    <tr>\n",
       "      <th>광주광역시</th>\n",
       "      <td>9</td>\n",
       "      <td>27</td>\n",
       "      <td>36</td>\n",
       "      <td>3375779</td>\n",
       "    </tr>\n",
       "    <tr>\n",
       "      <th>대구광역시</th>\n",
       "      <td>8</td>\n",
       "      <td>61</td>\n",
       "      <td>69</td>\n",
       "      <td>9278689</td>\n",
       "    </tr>\n",
       "    <tr>\n",
       "      <th>대전광역시</th>\n",
       "      <td>9</td>\n",
       "      <td>46</td>\n",
       "      <td>55</td>\n",
       "      <td>4931988</td>\n",
       "    </tr>\n",
       "    <tr>\n",
       "      <th>부산광역시</th>\n",
       "      <td>19</td>\n",
       "      <td>102</td>\n",
       "      <td>121</td>\n",
       "      <td>8301634</td>\n",
       "    </tr>\n",
       "    <tr>\n",
       "      <th>서울특별시</th>\n",
       "      <td>37</td>\n",
       "      <td>246</td>\n",
       "      <td>283</td>\n",
       "      <td>15323890</td>\n",
       "    </tr>\n",
       "    <tr>\n",
       "      <th>세종특별자치시</th>\n",
       "      <td>2</td>\n",
       "      <td>8</td>\n",
       "      <td>10</td>\n",
       "      <td>4039112</td>\n",
       "    </tr>\n",
       "    <tr>\n",
       "      <th>울산광역시</th>\n",
       "      <td>2</td>\n",
       "      <td>39</td>\n",
       "      <td>41</td>\n",
       "      <td>3460955</td>\n",
       "    </tr>\n",
       "    <tr>\n",
       "      <th>인천광역시</th>\n",
       "      <td>7</td>\n",
       "      <td>90</td>\n",
       "      <td>97</td>\n",
       "      <td>14843774</td>\n",
       "    </tr>\n",
       "    <tr>\n",
       "      <th>전라남도</th>\n",
       "      <td>19</td>\n",
       "      <td>99</td>\n",
       "      <td>118</td>\n",
       "      <td>24841124</td>\n",
       "    </tr>\n",
       "    <tr>\n",
       "      <th>전라북도</th>\n",
       "      <td>15</td>\n",
       "      <td>69</td>\n",
       "      <td>84</td>\n",
       "      <td>20690454</td>\n",
       "    </tr>\n",
       "    <tr>\n",
       "      <th>제주특별자치도</th>\n",
       "      <td>5</td>\n",
       "      <td>19</td>\n",
       "      <td>24</td>\n",
       "      <td>3944602</td>\n",
       "    </tr>\n",
       "    <tr>\n",
       "      <th>충청남도</th>\n",
       "      <td>19</td>\n",
       "      <td>30</td>\n",
       "      <td>49</td>\n",
       "      <td>26479876</td>\n",
       "    </tr>\n",
       "    <tr>\n",
       "      <th>충청북도</th>\n",
       "      <td>41</td>\n",
       "      <td>107</td>\n",
       "      <td>148</td>\n",
       "      <td>30979634</td>\n",
       "    </tr>\n",
       "  </tbody>\n",
       "</table>\n",
       "</div>"
      ],
      "text/plain": [
       "         사망   부상  인명피해     재산피해소계\n",
       "시도                               \n",
       "강원도      24  123   147   30228041\n",
       "경기도      78  573   651  250321443\n",
       "경상남도     24   86   110   30779725\n",
       "경상북도     27  127   154   25092858\n",
       "광주광역시     9   27    36    3375779\n",
       "대구광역시     8   61    69    9278689\n",
       "대전광역시     9   46    55    4931988\n",
       "부산광역시    19  102   121    8301634\n",
       "서울특별시    37  246   283   15323890\n",
       "세종특별자치시   2    8    10    4039112\n",
       "울산광역시     2   39    41    3460955\n",
       "인천광역시     7   90    97   14843774\n",
       "전라남도     19   99   118   24841124\n",
       "전라북도     15   69    84   20690454\n",
       "제주특별자치도   5   19    24    3944602\n",
       "충청남도     19   30    49   26479876\n",
       "충청북도     41  107   148   30979634"
      ]
     },
     "execution_count": 114,
     "metadata": {},
     "output_type": "execute_result"
    }
   ],
   "source": [
    "# 시도별 그룹화하여 합계를 출력\n",
    "f2017_1=fire2017.groupby(['시도']).sum()\n",
    "f2017_1"
   ]
  },
  {
   "cell_type": "code",
   "execution_count": 115,
   "id": "8390deb4",
   "metadata": {
    "scrolled": false
   },
   "outputs": [
    {
     "data": {
      "text/html": [
       "<div>\n",
       "<style scoped>\n",
       "    .dataframe tbody tr th:only-of-type {\n",
       "        vertical-align: middle;\n",
       "    }\n",
       "\n",
       "    .dataframe tbody tr th {\n",
       "        vertical-align: top;\n",
       "    }\n",
       "\n",
       "    .dataframe thead th {\n",
       "        text-align: right;\n",
       "    }\n",
       "</style>\n",
       "<table border=\"1\" class=\"dataframe\">\n",
       "  <thead>\n",
       "    <tr style=\"text-align: right;\">\n",
       "      <th></th>\n",
       "      <th>사망</th>\n",
       "      <th>부상</th>\n",
       "      <th>인명피해</th>\n",
       "      <th>재산피해소계</th>\n",
       "    </tr>\n",
       "    <tr>\n",
       "      <th>시도</th>\n",
       "      <th></th>\n",
       "      <th></th>\n",
       "      <th></th>\n",
       "      <th></th>\n",
       "    </tr>\n",
       "  </thead>\n",
       "  <tbody>\n",
       "    <tr>\n",
       "      <th>경기도</th>\n",
       "      <td>78</td>\n",
       "      <td>573</td>\n",
       "      <td>651</td>\n",
       "      <td>250321443</td>\n",
       "    </tr>\n",
       "    <tr>\n",
       "      <th>서울특별시</th>\n",
       "      <td>37</td>\n",
       "      <td>246</td>\n",
       "      <td>283</td>\n",
       "      <td>15323890</td>\n",
       "    </tr>\n",
       "    <tr>\n",
       "      <th>경상북도</th>\n",
       "      <td>27</td>\n",
       "      <td>127</td>\n",
       "      <td>154</td>\n",
       "      <td>25092858</td>\n",
       "    </tr>\n",
       "  </tbody>\n",
       "</table>\n",
       "</div>"
      ],
      "text/plain": [
       "       사망   부상  인명피해     재산피해소계\n",
       "시도                             \n",
       "경기도    78  573   651  250321443\n",
       "서울특별시  37  246   283   15323890\n",
       "경상북도   27  127   154   25092858"
      ]
     },
     "execution_count": 115,
     "metadata": {},
     "output_type": "execute_result"
    }
   ],
   "source": [
    "# 인명피해가 가장 큰 지역 -> 인명피해별 내림차순으로 정렬\n",
    "f2017_3=f2017_1.sort_values('인명피해', ascending=False)\n",
    "f2017_3.head(3)"
   ]
  },
  {
   "cell_type": "markdown",
   "id": "b2e4ef2d",
   "metadata": {},
   "source": [
    "### (4) 화재발생빈도가 가장 큰 '경기도'를 상세분석 ----------------"
   ]
  },
  {
   "cell_type": "code",
   "execution_count": 116,
   "id": "18881acd",
   "metadata": {
    "scrolled": true
   },
   "outputs": [
    {
     "data": {
      "text/html": [
       "<div>\n",
       "<style scoped>\n",
       "    .dataframe tbody tr th:only-of-type {\n",
       "        vertical-align: middle;\n",
       "    }\n",
       "\n",
       "    .dataframe tbody tr th {\n",
       "        vertical-align: top;\n",
       "    }\n",
       "\n",
       "    .dataframe thead th {\n",
       "        text-align: right;\n",
       "    }\n",
       "</style>\n",
       "<table border=\"1\" class=\"dataframe\">\n",
       "  <thead>\n",
       "    <tr style=\"text-align: right;\">\n",
       "      <th></th>\n",
       "      <th>년</th>\n",
       "      <th>월</th>\n",
       "      <th>시간대</th>\n",
       "      <th>시도</th>\n",
       "      <th>화재유형</th>\n",
       "      <th>발화열원</th>\n",
       "      <th>발화요인</th>\n",
       "      <th>최초착화물</th>\n",
       "      <th>장소</th>\n",
       "      <th>사망</th>\n",
       "      <th>부상</th>\n",
       "      <th>인명피해</th>\n",
       "      <th>재산피해소계</th>\n",
       "    </tr>\n",
       "  </thead>\n",
       "  <tbody>\n",
       "    <tr>\n",
       "      <th>87851</th>\n",
       "      <td>2017</td>\n",
       "      <td>1월</td>\n",
       "      <td>심야</td>\n",
       "      <td>경기도</td>\n",
       "      <td>건축,구조물</td>\n",
       "      <td>작동기기</td>\n",
       "      <td>부주의</td>\n",
       "      <td>식품</td>\n",
       "      <td>주거</td>\n",
       "      <td>0</td>\n",
       "      <td>0</td>\n",
       "      <td>0</td>\n",
       "      <td>1</td>\n",
       "    </tr>\n",
       "    <tr>\n",
       "      <th>87853</th>\n",
       "      <td>2017</td>\n",
       "      <td>1월</td>\n",
       "      <td>심야</td>\n",
       "      <td>경기도</td>\n",
       "      <td>건축,구조물</td>\n",
       "      <td>담뱃불, 라이터불</td>\n",
       "      <td>부주의</td>\n",
       "      <td>쓰레기류</td>\n",
       "      <td>주거</td>\n",
       "      <td>0</td>\n",
       "      <td>0</td>\n",
       "      <td>0</td>\n",
       "      <td>3638</td>\n",
       "    </tr>\n",
       "    <tr>\n",
       "      <th>87855</th>\n",
       "      <td>2017</td>\n",
       "      <td>1월</td>\n",
       "      <td>심야</td>\n",
       "      <td>경기도</td>\n",
       "      <td>건축,구조물</td>\n",
       "      <td>마찰, 전도, 복사</td>\n",
       "      <td>기계적 요인</td>\n",
       "      <td>위험물등</td>\n",
       "      <td>산업시설</td>\n",
       "      <td>0</td>\n",
       "      <td>0</td>\n",
       "      <td>0</td>\n",
       "      <td>5490</td>\n",
       "    </tr>\n",
       "  </tbody>\n",
       "</table>\n",
       "</div>"
      ],
      "text/plain": [
       "          년   월 시간대   시도    화재유형        발화열원    발화요인 최초착화물    장소  사망  부상  \\\n",
       "87851  2017  1월  심야  경기도  건축,구조물        작동기기     부주의    식품    주거   0   0   \n",
       "87853  2017  1월  심야  경기도  건축,구조물   담뱃불, 라이터불     부주의  쓰레기류    주거   0   0   \n",
       "87855  2017  1월  심야  경기도  건축,구조물  마찰, 전도, 복사  기계적 요인  위험물등  산업시설   0   0   \n",
       "\n",
       "       인명피해  재산피해소계  \n",
       "87851     0       1  \n",
       "87853     0    3638  \n",
       "87855     0    5490  "
      ]
     },
     "execution_count": 116,
     "metadata": {},
     "output_type": "execute_result"
    }
   ],
   "source": [
    "# 시도 중 화재발생 빈도, 인명피해 합계, 재산피해 합계가 가장 큰 '경기도' 데이터 추출\n",
    "fire2017_g = fire2017[fire2017['시도']=='경기도']\n",
    "fire2017_g.head(3)"
   ]
  },
  {
   "cell_type": "code",
   "execution_count": 117,
   "id": "9ddaa5b0",
   "metadata": {},
   "outputs": [
    {
     "data": {
      "text/plain": [
       "(9799, 13)"
      ]
     },
     "execution_count": 117,
     "metadata": {},
     "output_type": "execute_result"
    }
   ],
   "source": [
    "fire2017_g.shape"
   ]
  },
  {
   "cell_type": "code",
   "execution_count": 118,
   "id": "db16319d",
   "metadata": {},
   "outputs": [
    {
     "name": "stdout",
     "output_type": "stream",
     "text": [
      "<class 'pandas.core.frame.DataFrame'>\n",
      "Int64Index: 9799 entries, 87851 to 132007\n",
      "Data columns (total 13 columns):\n",
      " #   Column  Non-Null Count  Dtype   \n",
      "---  ------  --------------  -----   \n",
      " 0   년       9799 non-null   category\n",
      " 1   월       9799 non-null   category\n",
      " 2   시간대     9799 non-null   category\n",
      " 3   시도      9799 non-null   category\n",
      " 4   화재유형    9799 non-null   category\n",
      " 5   발화열원    9799 non-null   category\n",
      " 6   발화요인    9799 non-null   category\n",
      " 7   최초착화물   9799 non-null   category\n",
      " 8   장소      9799 non-null   category\n",
      " 9   사망      9799 non-null   int64   \n",
      " 10  부상      9799 non-null   int64   \n",
      " 11  인명피해    9799 non-null   int64   \n",
      " 12  재산피해소계  9799 non-null   int64   \n",
      "dtypes: category(9), int64(4)\n",
      "memory usage: 472.6 KB\n"
     ]
    }
   ],
   "source": [
    "fire2017_g.info()"
   ]
  },
  {
   "cell_type": "code",
   "execution_count": 119,
   "id": "6348f09d",
   "metadata": {},
   "outputs": [
    {
     "name": "stderr",
     "output_type": "stream",
     "text": [
      "C:\\Users\\whrjs\\AppData\\Local\\Temp\\ipykernel_14140\\429012266.py:2: UserWarning: Boolean Series key will be reindexed to match DataFrame index.\n",
      "  fire17_1 = fire2017_g[fireDF.인명피해!=0]\n",
      "C:\\Users\\whrjs\\AppData\\Local\\Temp\\ipykernel_14140\\429012266.py:5: UserWarning: Boolean Series key will be reindexed to match DataFrame index.\n",
      "  fire17_2 = fire2017_g[fireDF.재산피해소계!=0]\n"
     ]
    }
   ],
   "source": [
    "# 인명피해가 있는 상황만 확인\n",
    "fire17_1 = fire2017_g[fireDF.인명피해!=0]\n",
    "\n",
    "# 재산피해가 있는 상황만 확인\n",
    "fire17_2 = fire2017_g[fireDF.재산피해소계!=0]"
   ]
  },
  {
   "cell_type": "code",
   "execution_count": 120,
   "id": "860b5a93",
   "metadata": {},
   "outputs": [],
   "source": [
    "# 화재유형별 발생빈도, 인명피해, 재산피해 산출\n",
    "fire17_11=fire2017_g.groupby('화재유형')[['년']].count()\n",
    "fire17_12=fire17_1.groupby('화재유형')[['인명피해']].mean()\n",
    "fire17_13=fire17_2.groupby('화재유형')[['재산피해소계']].mean()"
   ]
  },
  {
   "cell_type": "code",
   "execution_count": 121,
   "id": "109c6132",
   "metadata": {},
   "outputs": [
    {
     "data": {
      "text/html": [
       "<div>\n",
       "<style scoped>\n",
       "    .dataframe tbody tr th:only-of-type {\n",
       "        vertical-align: middle;\n",
       "    }\n",
       "\n",
       "    .dataframe tbody tr th {\n",
       "        vertical-align: top;\n",
       "    }\n",
       "\n",
       "    .dataframe thead th {\n",
       "        text-align: right;\n",
       "    }\n",
       "</style>\n",
       "<table border=\"1\" class=\"dataframe\">\n",
       "  <thead>\n",
       "    <tr style=\"text-align: right;\">\n",
       "      <th></th>\n",
       "      <th>년</th>\n",
       "      <th>인명피해</th>\n",
       "      <th>재산피해소계</th>\n",
       "    </tr>\n",
       "    <tr>\n",
       "      <th>화재유형</th>\n",
       "      <th></th>\n",
       "      <th></th>\n",
       "      <th></th>\n",
       "    </tr>\n",
       "  </thead>\n",
       "  <tbody>\n",
       "    <tr>\n",
       "      <th>건축,구조물</th>\n",
       "      <td>6178</td>\n",
       "      <td>1.604720</td>\n",
       "      <td>37754.049667</td>\n",
       "    </tr>\n",
       "    <tr>\n",
       "      <th>기타(쓰레기 화재등)</th>\n",
       "      <td>1629</td>\n",
       "      <td>1.200000</td>\n",
       "      <td>3135.942455</td>\n",
       "    </tr>\n",
       "    <tr>\n",
       "      <th>선박,항공기</th>\n",
       "      <td>0</td>\n",
       "      <td>NaN</td>\n",
       "      <td>NaN</td>\n",
       "    </tr>\n",
       "    <tr>\n",
       "      <th>위험물,가스제조소등</th>\n",
       "      <td>10</td>\n",
       "      <td>1.500000</td>\n",
       "      <td>14976.200000</td>\n",
       "    </tr>\n",
       "    <tr>\n",
       "      <th>임야</th>\n",
       "      <td>813</td>\n",
       "      <td>1.000000</td>\n",
       "      <td>2937.471448</td>\n",
       "    </tr>\n",
       "    <tr>\n",
       "      <th>자동차,철도차량</th>\n",
       "      <td>1169</td>\n",
       "      <td>1.205882</td>\n",
       "      <td>8964.366209</td>\n",
       "    </tr>\n",
       "  </tbody>\n",
       "</table>\n",
       "</div>"
      ],
      "text/plain": [
       "                년      인명피해        재산피해소계\n",
       "화재유형                                     \n",
       "건축,구조물       6178  1.604720  37754.049667\n",
       "기타(쓰레기 화재등)  1629  1.200000   3135.942455\n",
       "선박,항공기          0       NaN           NaN\n",
       "위험물,가스제조소등     10  1.500000  14976.200000\n",
       "임야            813  1.000000   2937.471448\n",
       "자동차,철도차량     1169  1.205882   8964.366209"
      ]
     },
     "execution_count": 121,
     "metadata": {},
     "output_type": "execute_result"
    }
   ],
   "source": [
    "# DF 객체를 열방향으로 연결\n",
    "df1=pd.concat([fire17_11,fire17_12,fire17_13], axis=1)\n",
    "df1"
   ]
  },
  {
   "cell_type": "code",
   "execution_count": 122,
   "id": "f9712e80",
   "metadata": {},
   "outputs": [
    {
     "data": {
      "text/html": [
       "<div>\n",
       "<style scoped>\n",
       "    .dataframe tbody tr th:only-of-type {\n",
       "        vertical-align: middle;\n",
       "    }\n",
       "\n",
       "    .dataframe tbody tr th {\n",
       "        vertical-align: top;\n",
       "    }\n",
       "\n",
       "    .dataframe thead th {\n",
       "        text-align: right;\n",
       "    }\n",
       "</style>\n",
       "<table border=\"1\" class=\"dataframe\">\n",
       "  <thead>\n",
       "    <tr style=\"text-align: right;\">\n",
       "      <th></th>\n",
       "      <th>년</th>\n",
       "      <th>인명피해</th>\n",
       "      <th>재산피해소계</th>\n",
       "    </tr>\n",
       "    <tr>\n",
       "      <th>발화열원</th>\n",
       "      <th></th>\n",
       "      <th></th>\n",
       "      <th></th>\n",
       "    </tr>\n",
       "  </thead>\n",
       "  <tbody>\n",
       "    <tr>\n",
       "      <th>기타</th>\n",
       "      <td>79</td>\n",
       "      <td>4.000000</td>\n",
       "      <td>57496.589744</td>\n",
       "    </tr>\n",
       "    <tr>\n",
       "      <th>기타(발화원인)</th>\n",
       "      <td>0</td>\n",
       "      <td>NaN</td>\n",
       "      <td>NaN</td>\n",
       "    </tr>\n",
       "    <tr>\n",
       "      <th>담뱃불, 라이터불</th>\n",
       "      <td>2112</td>\n",
       "      <td>1.278481</td>\n",
       "      <td>6342.383488</td>\n",
       "    </tr>\n",
       "    <tr>\n",
       "      <th>마찰, 전도, 복사</th>\n",
       "      <td>717</td>\n",
       "      <td>1.384615</td>\n",
       "      <td>11802.315126</td>\n",
       "    </tr>\n",
       "    <tr>\n",
       "      <th>미상</th>\n",
       "      <td>816</td>\n",
       "      <td>1.658228</td>\n",
       "      <td>139010.592089</td>\n",
       "    </tr>\n",
       "    <tr>\n",
       "      <th>미상(발화원인)</th>\n",
       "      <td>0</td>\n",
       "      <td>NaN</td>\n",
       "      <td>NaN</td>\n",
       "    </tr>\n",
       "    <tr>\n",
       "      <th>불꽃, 불티</th>\n",
       "      <td>1819</td>\n",
       "      <td>1.500000</td>\n",
       "      <td>15509.014164</td>\n",
       "    </tr>\n",
       "    <tr>\n",
       "      <th>자연적 발화열</th>\n",
       "      <td>58</td>\n",
       "      <td>1.000000</td>\n",
       "      <td>8871.189655</td>\n",
       "    </tr>\n",
       "    <tr>\n",
       "      <th>작동기기</th>\n",
       "      <td>4029</td>\n",
       "      <td>1.417808</td>\n",
       "      <td>19184.539035</td>\n",
       "    </tr>\n",
       "    <tr>\n",
       "      <th>폭발물, 폭죽</th>\n",
       "      <td>5</td>\n",
       "      <td>NaN</td>\n",
       "      <td>930.200000</td>\n",
       "    </tr>\n",
       "    <tr>\n",
       "      <th>화학적 발화열</th>\n",
       "      <td>164</td>\n",
       "      <td>1.750000</td>\n",
       "      <td>44324.500000</td>\n",
       "    </tr>\n",
       "  </tbody>\n",
       "</table>\n",
       "</div>"
      ],
      "text/plain": [
       "               년      인명피해         재산피해소계\n",
       "발화열원                                     \n",
       "기타            79  4.000000   57496.589744\n",
       "기타(발화원인)       0       NaN            NaN\n",
       "담뱃불, 라이터불   2112  1.278481    6342.383488\n",
       "마찰, 전도, 복사   717  1.384615   11802.315126\n",
       "미상           816  1.658228  139010.592089\n",
       "미상(발화원인)       0       NaN            NaN\n",
       "불꽃, 불티      1819  1.500000   15509.014164\n",
       "자연적 발화열       58  1.000000    8871.189655\n",
       "작동기기        4029  1.417808   19184.539035\n",
       "폭발물, 폭죽        5       NaN     930.200000\n",
       "화학적 발화열      164  1.750000   44324.500000"
      ]
     },
     "execution_count": 122,
     "metadata": {},
     "output_type": "execute_result"
    }
   ],
   "source": [
    "# 발화열원별 발생빈도, 인명피해, 재산피해 산출\n",
    "fire17_21=fire2017_g.groupby('발화열원')[['년']].count()\n",
    "fire17_22=fire17_1.groupby('발화열원')[['인명피해']].mean()\n",
    "fire17_23=fire17_2.groupby('발화열원')[['재산피해소계']].mean()\n",
    "\n",
    "df1=pd.concat([fire17_21,fire17_22,fire17_23], axis=1)\n",
    "df1"
   ]
  },
  {
   "cell_type": "code",
   "execution_count": 123,
   "id": "fec75e93",
   "metadata": {},
   "outputs": [
    {
     "data": {
      "text/html": [
       "<div>\n",
       "<style scoped>\n",
       "    .dataframe tbody tr th:only-of-type {\n",
       "        vertical-align: middle;\n",
       "    }\n",
       "\n",
       "    .dataframe tbody tr th {\n",
       "        vertical-align: top;\n",
       "    }\n",
       "\n",
       "    .dataframe thead th {\n",
       "        text-align: right;\n",
       "    }\n",
       "</style>\n",
       "<table border=\"1\" class=\"dataframe\">\n",
       "  <thead>\n",
       "    <tr style=\"text-align: right;\">\n",
       "      <th></th>\n",
       "      <th>년</th>\n",
       "      <th>인명피해</th>\n",
       "      <th>재산피해소계</th>\n",
       "    </tr>\n",
       "    <tr>\n",
       "      <th>발화요인</th>\n",
       "      <th></th>\n",
       "      <th></th>\n",
       "      <th></th>\n",
       "    </tr>\n",
       "  </thead>\n",
       "  <tbody>\n",
       "    <tr>\n",
       "      <th>가스누출(폭발)</th>\n",
       "      <td>38</td>\n",
       "      <td>1.700000</td>\n",
       "      <td>9766.815789</td>\n",
       "    </tr>\n",
       "    <tr>\n",
       "      <th>교통사고</th>\n",
       "      <td>98</td>\n",
       "      <td>1.222222</td>\n",
       "      <td>14150.816327</td>\n",
       "    </tr>\n",
       "    <tr>\n",
       "      <th>기계적 요인</th>\n",
       "      <td>1365</td>\n",
       "      <td>1.764706</td>\n",
       "      <td>12909.676449</td>\n",
       "    </tr>\n",
       "    <tr>\n",
       "      <th>기타</th>\n",
       "      <td>31</td>\n",
       "      <td>7.750000</td>\n",
       "      <td>66100.866667</td>\n",
       "    </tr>\n",
       "    <tr>\n",
       "      <th>미상</th>\n",
       "      <td>760</td>\n",
       "      <td>1.567164</td>\n",
       "      <td>146701.385942</td>\n",
       "    </tr>\n",
       "    <tr>\n",
       "      <th>방화</th>\n",
       "      <td>71</td>\n",
       "      <td>1.769231</td>\n",
       "      <td>16480.295775</td>\n",
       "    </tr>\n",
       "    <tr>\n",
       "      <th>방화의심</th>\n",
       "      <td>90</td>\n",
       "      <td>1.200000</td>\n",
       "      <td>5543.842697</td>\n",
       "    </tr>\n",
       "    <tr>\n",
       "      <th>부주의</th>\n",
       "      <td>4716</td>\n",
       "      <td>1.381188</td>\n",
       "      <td>9787.991505</td>\n",
       "    </tr>\n",
       "    <tr>\n",
       "      <th>자연적인 요인</th>\n",
       "      <td>62</td>\n",
       "      <td>1.000000</td>\n",
       "      <td>18197.081967</td>\n",
       "    </tr>\n",
       "    <tr>\n",
       "      <th>전기적 요인</th>\n",
       "      <td>2361</td>\n",
       "      <td>1.343284</td>\n",
       "      <td>24583.692797</td>\n",
       "    </tr>\n",
       "    <tr>\n",
       "      <th>화학적 요인</th>\n",
       "      <td>207</td>\n",
       "      <td>1.454545</td>\n",
       "      <td>63537.964824</td>\n",
       "    </tr>\n",
       "  </tbody>\n",
       "</table>\n",
       "</div>"
      ],
      "text/plain": [
       "             년      인명피해         재산피해소계\n",
       "발화요인                                   \n",
       "가스누출(폭발)    38  1.700000    9766.815789\n",
       "교통사고        98  1.222222   14150.816327\n",
       "기계적 요인    1365  1.764706   12909.676449\n",
       "기타          31  7.750000   66100.866667\n",
       "미상         760  1.567164  146701.385942\n",
       "방화          71  1.769231   16480.295775\n",
       "방화의심        90  1.200000    5543.842697\n",
       "부주의       4716  1.381188    9787.991505\n",
       "자연적인 요인     62  1.000000   18197.081967\n",
       "전기적 요인    2361  1.343284   24583.692797\n",
       "화학적 요인     207  1.454545   63537.964824"
      ]
     },
     "execution_count": 123,
     "metadata": {},
     "output_type": "execute_result"
    }
   ],
   "source": [
    "# 발화요인별 발생빈도, 인명피해, 재산피해 산출\n",
    "fire17_31=fire2017_g.groupby('발화요인')[['년']].count()\n",
    "fire17_32=fire17_1.groupby('발화요인')[['인명피해']].mean()\n",
    "fire17_33=fire17_2.groupby('발화요인')[['재산피해소계']].mean()\n",
    "\n",
    "df1=pd.concat([fire17_31,fire17_32,fire17_33], axis=1)\n",
    "df1"
   ]
  },
  {
   "cell_type": "code",
   "execution_count": 124,
   "id": "50abc207",
   "metadata": {},
   "outputs": [
    {
     "data": {
      "text/html": [
       "<div>\n",
       "<style scoped>\n",
       "    .dataframe tbody tr th:only-of-type {\n",
       "        vertical-align: middle;\n",
       "    }\n",
       "\n",
       "    .dataframe tbody tr th {\n",
       "        vertical-align: top;\n",
       "    }\n",
       "\n",
       "    .dataframe thead th {\n",
       "        text-align: right;\n",
       "    }\n",
       "</style>\n",
       "<table border=\"1\" class=\"dataframe\">\n",
       "  <thead>\n",
       "    <tr style=\"text-align: right;\">\n",
       "      <th></th>\n",
       "      <th>년</th>\n",
       "      <th>인명피해</th>\n",
       "      <th>재산피해소계</th>\n",
       "    </tr>\n",
       "    <tr>\n",
       "      <th>최초착화물</th>\n",
       "      <th></th>\n",
       "      <th></th>\n",
       "      <th></th>\n",
       "    </tr>\n",
       "  </thead>\n",
       "  <tbody>\n",
       "    <tr>\n",
       "      <th>가구</th>\n",
       "      <td>45</td>\n",
       "      <td>1.000000</td>\n",
       "      <td>78628.466667</td>\n",
       "    </tr>\n",
       "    <tr>\n",
       "      <th>가연성가스</th>\n",
       "      <td>69</td>\n",
       "      <td>3.444444</td>\n",
       "      <td>77728.884058</td>\n",
       "    </tr>\n",
       "    <tr>\n",
       "      <th>간판,차양막등</th>\n",
       "      <td>43</td>\n",
       "      <td>1.500000</td>\n",
       "      <td>7007.523810</td>\n",
       "    </tr>\n",
       "    <tr>\n",
       "      <th>기타</th>\n",
       "      <td>369</td>\n",
       "      <td>2.409091</td>\n",
       "      <td>20502.425000</td>\n",
       "    </tr>\n",
       "    <tr>\n",
       "      <th>미상</th>\n",
       "      <td>676</td>\n",
       "      <td>1.476190</td>\n",
       "      <td>159931.988131</td>\n",
       "    </tr>\n",
       "    <tr>\n",
       "      <th>식품</th>\n",
       "      <td>528</td>\n",
       "      <td>1.142857</td>\n",
       "      <td>2405.009524</td>\n",
       "    </tr>\n",
       "    <tr>\n",
       "      <th>쓰레기류</th>\n",
       "      <td>1116</td>\n",
       "      <td>2.030303</td>\n",
       "      <td>19612.238313</td>\n",
       "    </tr>\n",
       "    <tr>\n",
       "      <th>위험물등</th>\n",
       "      <td>248</td>\n",
       "      <td>1.214286</td>\n",
       "      <td>40584.763265</td>\n",
       "    </tr>\n",
       "    <tr>\n",
       "      <th>자동차,철도차량,선박,항공기</th>\n",
       "      <td>457</td>\n",
       "      <td>1.222222</td>\n",
       "      <td>8773.155702</td>\n",
       "    </tr>\n",
       "    <tr>\n",
       "      <th>전기,전자</th>\n",
       "      <td>2159</td>\n",
       "      <td>1.333333</td>\n",
       "      <td>20037.523876</td>\n",
       "    </tr>\n",
       "    <tr>\n",
       "      <th>종이,목재,건초등</th>\n",
       "      <td>2603</td>\n",
       "      <td>1.087500</td>\n",
       "      <td>6882.826156</td>\n",
       "    </tr>\n",
       "    <tr>\n",
       "      <th>침구,직물류</th>\n",
       "      <td>310</td>\n",
       "      <td>1.685714</td>\n",
       "      <td>14049.220065</td>\n",
       "    </tr>\n",
       "    <tr>\n",
       "      <th>합성수지</th>\n",
       "      <td>1176</td>\n",
       "      <td>1.322581</td>\n",
       "      <td>20906.083546</td>\n",
       "    </tr>\n",
       "  </tbody>\n",
       "</table>\n",
       "</div>"
      ],
      "text/plain": [
       "                    년      인명피해         재산피해소계\n",
       "최초착화물                                         \n",
       "가구                 45  1.000000   78628.466667\n",
       "가연성가스              69  3.444444   77728.884058\n",
       "간판,차양막등            43  1.500000    7007.523810\n",
       "기타                369  2.409091   20502.425000\n",
       "미상                676  1.476190  159931.988131\n",
       "식품                528  1.142857    2405.009524\n",
       "쓰레기류             1116  2.030303   19612.238313\n",
       "위험물등              248  1.214286   40584.763265\n",
       "자동차,철도차량,선박,항공기   457  1.222222    8773.155702\n",
       "전기,전자            2159  1.333333   20037.523876\n",
       "종이,목재,건초등        2603  1.087500    6882.826156\n",
       "침구,직물류            310  1.685714   14049.220065\n",
       "합성수지             1176  1.322581   20906.083546"
      ]
     },
     "execution_count": 124,
     "metadata": {},
     "output_type": "execute_result"
    }
   ],
   "source": [
    "# 최초착화물별 발생빈도, 인명피해, 재산피해 산출\n",
    "fire17_41=fire2017_g.groupby('최초착화물')[['년']].count()\n",
    "fire17_42=fire17_1.groupby('최초착화물')[['인명피해']].mean()\n",
    "fire17_43=fire17_2.groupby('최초착화물')[['재산피해소계']].mean()\n",
    "\n",
    "df1=pd.concat([fire17_41,fire17_42,fire17_43], axis=1)\n",
    "df1"
   ]
  },
  {
   "cell_type": "code",
   "execution_count": 125,
   "id": "4d65670c",
   "metadata": {},
   "outputs": [
    {
     "data": {
      "text/html": [
       "<div>\n",
       "<style scoped>\n",
       "    .dataframe tbody tr th:only-of-type {\n",
       "        vertical-align: middle;\n",
       "    }\n",
       "\n",
       "    .dataframe tbody tr th {\n",
       "        vertical-align: top;\n",
       "    }\n",
       "\n",
       "    .dataframe thead th {\n",
       "        text-align: right;\n",
       "    }\n",
       "</style>\n",
       "<table border=\"1\" class=\"dataframe\">\n",
       "  <thead>\n",
       "    <tr style=\"text-align: right;\">\n",
       "      <th></th>\n",
       "      <th>년</th>\n",
       "      <th>인명피해</th>\n",
       "      <th>재산피해소계</th>\n",
       "    </tr>\n",
       "    <tr>\n",
       "      <th>장소</th>\n",
       "      <th></th>\n",
       "      <th></th>\n",
       "      <th></th>\n",
       "    </tr>\n",
       "  </thead>\n",
       "  <tbody>\n",
       "    <tr>\n",
       "      <th>교육시설</th>\n",
       "      <td>88</td>\n",
       "      <td>1.666667</td>\n",
       "      <td>27223.000000</td>\n",
       "    </tr>\n",
       "    <tr>\n",
       "      <th>기타</th>\n",
       "      <td>1629</td>\n",
       "      <td>1.200000</td>\n",
       "      <td>3135.942455</td>\n",
       "    </tr>\n",
       "    <tr>\n",
       "      <th>기타서비스</th>\n",
       "      <td>305</td>\n",
       "      <td>1.000000</td>\n",
       "      <td>5256.891803</td>\n",
       "    </tr>\n",
       "    <tr>\n",
       "      <th>문화재시설</th>\n",
       "      <td>1</td>\n",
       "      <td>NaN</td>\n",
       "      <td>78422.000000</td>\n",
       "    </tr>\n",
       "    <tr>\n",
       "      <th>산업시설</th>\n",
       "      <td>1891</td>\n",
       "      <td>1.768116</td>\n",
       "      <td>92866.909910</td>\n",
       "    </tr>\n",
       "    <tr>\n",
       "      <th>생활서비스</th>\n",
       "      <td>863</td>\n",
       "      <td>1.358974</td>\n",
       "      <td>11249.440324</td>\n",
       "    </tr>\n",
       "    <tr>\n",
       "      <th>선박,항공기</th>\n",
       "      <td>0</td>\n",
       "      <td>NaN</td>\n",
       "      <td>NaN</td>\n",
       "    </tr>\n",
       "    <tr>\n",
       "      <th>운수자동차시설</th>\n",
       "      <td>77</td>\n",
       "      <td>1.000000</td>\n",
       "      <td>30356.298701</td>\n",
       "    </tr>\n",
       "    <tr>\n",
       "      <th>위험물,가스제조소</th>\n",
       "      <td>10</td>\n",
       "      <td>1.500000</td>\n",
       "      <td>14976.200000</td>\n",
       "    </tr>\n",
       "    <tr>\n",
       "      <th>의료,복지시설</th>\n",
       "      <td>69</td>\n",
       "      <td>1.000000</td>\n",
       "      <td>9105.463768</td>\n",
       "    </tr>\n",
       "    <tr>\n",
       "      <th>임야</th>\n",
       "      <td>813</td>\n",
       "      <td>1.000000</td>\n",
       "      <td>2937.471448</td>\n",
       "    </tr>\n",
       "    <tr>\n",
       "      <th>자동차,철도차량</th>\n",
       "      <td>1169</td>\n",
       "      <td>1.205882</td>\n",
       "      <td>8964.366209</td>\n",
       "    </tr>\n",
       "    <tr>\n",
       "      <th>주거</th>\n",
       "      <td>2291</td>\n",
       "      <td>1.448649</td>\n",
       "      <td>7879.245291</td>\n",
       "    </tr>\n",
       "    <tr>\n",
       "      <th>집합시설</th>\n",
       "      <td>71</td>\n",
       "      <td>3.000000</td>\n",
       "      <td>24390.154930</td>\n",
       "    </tr>\n",
       "    <tr>\n",
       "      <th>판매,업무시설</th>\n",
       "      <td>522</td>\n",
       "      <td>2.958333</td>\n",
       "      <td>40408.986460</td>\n",
       "    </tr>\n",
       "  </tbody>\n",
       "</table>\n",
       "</div>"
      ],
      "text/plain": [
       "              년      인명피해        재산피해소계\n",
       "장소                                     \n",
       "교육시설         88  1.666667  27223.000000\n",
       "기타         1629  1.200000   3135.942455\n",
       "기타서비스       305  1.000000   5256.891803\n",
       "문화재시설         1       NaN  78422.000000\n",
       "산업시설       1891  1.768116  92866.909910\n",
       "생활서비스       863  1.358974  11249.440324\n",
       "선박,항공기        0       NaN           NaN\n",
       "운수자동차시설      77  1.000000  30356.298701\n",
       "위험물,가스제조소    10  1.500000  14976.200000\n",
       "의료,복지시설      69  1.000000   9105.463768\n",
       "임야          813  1.000000   2937.471448\n",
       "자동차,철도차량   1169  1.205882   8964.366209\n",
       "주거         2291  1.448649   7879.245291\n",
       "집합시설         71  3.000000  24390.154930\n",
       "판매,업무시설     522  2.958333  40408.986460"
      ]
     },
     "execution_count": 125,
     "metadata": {},
     "output_type": "execute_result"
    }
   ],
   "source": [
    "# 장소별 발생빈도, 인명피해, 재산피해 산출\n",
    "fire17_51=fire2017_g.groupby('장소')[['년']].count()\n",
    "fire17_52=fire17_1.groupby('장소')[['인명피해']].mean()\n",
    "fire17_53=fire17_2.groupby('장소')[['재산피해소계']].mean()\n",
    "\n",
    "df1=pd.concat([fire17_51,fire17_52,fire17_53], axis=1)\n",
    "df1"
   ]
  },
  {
   "cell_type": "code",
   "execution_count": 127,
   "id": "622f4c72",
   "metadata": {},
   "outputs": [
    {
     "data": {
      "text/html": [
       "<div>\n",
       "<style scoped>\n",
       "    .dataframe tbody tr th:only-of-type {\n",
       "        vertical-align: middle;\n",
       "    }\n",
       "\n",
       "    .dataframe tbody tr th {\n",
       "        vertical-align: top;\n",
       "    }\n",
       "\n",
       "    .dataframe thead th {\n",
       "        text-align: right;\n",
       "    }\n",
       "</style>\n",
       "<table border=\"1\" class=\"dataframe\">\n",
       "  <thead>\n",
       "    <tr style=\"text-align: right;\">\n",
       "      <th></th>\n",
       "      <th>년</th>\n",
       "      <th>인명피해</th>\n",
       "      <th>재산피해소계</th>\n",
       "    </tr>\n",
       "    <tr>\n",
       "      <th>시간대</th>\n",
       "      <th></th>\n",
       "      <th></th>\n",
       "      <th></th>\n",
       "    </tr>\n",
       "  </thead>\n",
       "  <tbody>\n",
       "    <tr>\n",
       "      <th>낮</th>\n",
       "      <td>3801</td>\n",
       "      <td>1.470588</td>\n",
       "      <td>18609.726248</td>\n",
       "    </tr>\n",
       "    <tr>\n",
       "      <th>심야</th>\n",
       "      <td>1373</td>\n",
       "      <td>1.820513</td>\n",
       "      <td>50276.225476</td>\n",
       "    </tr>\n",
       "    <tr>\n",
       "      <th>아침</th>\n",
       "      <td>2305</td>\n",
       "      <td>1.435185</td>\n",
       "      <td>24029.745927</td>\n",
       "    </tr>\n",
       "    <tr>\n",
       "      <th>저녁</th>\n",
       "      <td>2320</td>\n",
       "      <td>1.372340</td>\n",
       "      <td>25199.793103</td>\n",
       "    </tr>\n",
       "  </tbody>\n",
       "</table>\n",
       "</div>"
      ],
      "text/plain": [
       "        년      인명피해        재산피해소계\n",
       "시간대                              \n",
       "낮    3801  1.470588  18609.726248\n",
       "심야   1373  1.820513  50276.225476\n",
       "아침   2305  1.435185  24029.745927\n",
       "저녁   2320  1.372340  25199.793103"
      ]
     },
     "execution_count": 127,
     "metadata": {},
     "output_type": "execute_result"
    }
   ],
   "source": [
    "# 시간대별 발생빈도, 인명피해, 재산피해 산출\n",
    "fire17_71=fire2017_g.groupby('시간대')[['년']].count()\n",
    "fire17_72=fire17_1.groupby('시간대')[['인명피해']].mean()\n",
    "fire17_73=fire17_2.groupby('시간대')[['재산피해소계']].mean()\n",
    "\n",
    "df1=pd.concat([fire17_71,fire17_72,fire17_73], axis=1)\n",
    "df1"
   ]
  },
  {
   "cell_type": "code",
   "execution_count": null,
   "id": "467f9140",
   "metadata": {},
   "outputs": [],
   "source": []
  }
 ],
 "metadata": {
  "kernelspec": {
   "display_name": "Python 3 (ipykernel)",
   "language": "python",
   "name": "python3"
  },
  "language_info": {
   "codemirror_mode": {
    "name": "ipython",
    "version": 3
   },
   "file_extension": ".py",
   "mimetype": "text/x-python",
   "name": "python",
   "nbconvert_exporter": "python",
   "pygments_lexer": "ipython3",
   "version": "3.9.12"
  }
 },
 "nbformat": 4,
 "nbformat_minor": 5
}
